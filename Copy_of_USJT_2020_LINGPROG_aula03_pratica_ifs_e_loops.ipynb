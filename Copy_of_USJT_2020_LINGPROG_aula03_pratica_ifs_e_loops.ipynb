{
  "nbformat": 4,
  "nbformat_minor": 0,
  "metadata": {
    "colab": {
      "name": "Copy of USJT-2020-LINGPROG-aula03-pratica- ifs e loops.ipynb",
      "provenance": [],
      "include_colab_link": true
    },
    "kernelspec": {
      "display_name": "Python 3",
      "language": "python",
      "name": "python3"
    },
    "language_info": {
      "codemirror_mode": {
        "name": "ipython",
        "version": 3
      },
      "file_extension": ".py",
      "mimetype": "text/x-python",
      "name": "python",
      "nbconvert_exporter": "python",
      "pygments_lexer": "ipython3",
      "version": "3.6.4"
    }
  },
  "cells": [
    {
      "cell_type": "markdown",
      "metadata": {
        "id": "view-in-github",
        "colab_type": "text"
      },
      "source": [
        "<a href=\"https://colab.research.google.com/github/CharlesNasci/Paradigmas/blob/master/Copy_of_USJT_2020_LINGPROG_aula03_pratica_ifs_e_loops.ipynb\" target=\"_parent\"><img src=\"https://colab.research.google.com/assets/colab-badge.svg\" alt=\"Open In Colab\"/></a>"
      ]
    },
    {
      "cell_type": "markdown",
      "metadata": {
        "id": "gNwdbDh4Jgqb",
        "colab_type": "text"
      },
      "source": [
        "![logo_usjt.png](https://www.usjt.br/app/themes/mobister/dist/images/sao-judas-universidade.png)"
      ]
    },
    {
      "cell_type": "markdown",
      "metadata": {
        "id": "EM_Nsu4EJgqk",
        "colab_type": "text"
      },
      "source": [
        "# Paradigmas de Linguagens de Programação\n",
        "- **Professor**: Sergio Bonato <antonio.bonato@saojudas.br>"
      ]
    },
    {
      "cell_type": "markdown",
      "metadata": {
        "id": "uV1B0TL8Jgqm",
        "colab_type": "text"
      },
      "source": [
        "# Atividade03 - Python Básico - Ifs, Loops e Arquivos\n",
        "\n",
        "**Conteúdo:**\n",
        "- comparações, condicionais\n",
        "- laços for e while\n",
        "- arquivos"
      ]
    },
    {
      "cell_type": "markdown",
      "metadata": {
        "id": "4kImyV-TJgqo",
        "colab_type": "text"
      },
      "source": [
        "## Autor\n",
        "- **Aluno:**\n",
        "\n",
        "Obs: as tarefas devem ser individuais."
      ]
    },
    {
      "cell_type": "markdown",
      "metadata": {
        "id": "p1qehgk2Jgqq",
        "colab_type": "text"
      },
      "source": [
        "## Exercícios"
      ]
    },
    {
      "cell_type": "markdown",
      "metadata": {
        "id": "0I4ZQ1qTJgqw",
        "colab_type": "text"
      },
      "source": [
        "**1** Faça um programa para a leitura de duas notas parciais de um aluno. O programa deve calcular a média alcançada por aluno e apresentar:\n",
        "- A mensagem \"Aprovado\", se a média alcançada for maior ou igual a sete;\n",
        "- A mensagem \"Reprovado\", se a média for menor do que sete;\n",
        "- A mensagem \"Aprovado com Distinção\", se a média for igual a dez."
      ]
    },
    {
      "cell_type": "code",
      "metadata": {
        "id": "mncuB-I1Jgqz",
        "colab_type": "code",
        "colab": {
          "base_uri": "https://localhost:8080/",
          "height": 68
        },
        "outputId": "06ef9e35-d22f-4018-de49-0b489860b1fd"
      },
      "source": [
        "#solução\n",
        "nota1 = float(input('Insira a primeira nota do aluno '))\n",
        "nota2 = float(input('Insira a segunda nota do aluno '))\n",
        "\n",
        "media = nota1 + nota2 / 2\n",
        "if media >= 7:\n",
        "  print('Aprovado')\n",
        "\n",
        "elif media == 10:\n",
        "  print('Aprovado com Distinção')\n",
        "  \n",
        "else:\n",
        "  print('Reprovado')\n"
      ],
      "execution_count": null,
      "outputs": [
        {
          "output_type": "stream",
          "text": [
            "Insira a primeira nota do aluno 10\n",
            "Insira a segunda nota do aluno 8\n",
            "Aprovado\n"
          ],
          "name": "stdout"
        }
      ]
    },
    {
      "cell_type": "markdown",
      "metadata": {
        "id": "2wf31v2-Jgq5",
        "colab_type": "text"
      },
      "source": [
        "**2** Faça um programa que leia três números e mostre-os em ordem decrescente."
      ]
    },
    {
      "cell_type": "code",
      "metadata": {
        "id": "gLENnx_BJgq7",
        "colab_type": "code",
        "colab": {
          "base_uri": "https://localhost:8080/",
          "height": 102
        },
        "outputId": "15f31778-192d-4732-a04c-80e35efee902"
      },
      "source": [
        "#solução\n",
        "n1 = int(input('insira um numero:'))\n",
        "n2 = int(input('insira um numero:'))\n",
        "n3 = int(input('insira um numero:'))\n",
        "\n",
        "print(n1,n2,n3)\n",
        "\n",
        "if (n1 < n2):\n",
        "  aux = n3\n",
        "  n3 = n2\n",
        "  n2 = aux\n",
        "\n",
        "if (n2 > n1):\n",
        "  aux = n2\n",
        "  n2 = n1\n",
        "  n1 = aux\n",
        "\n",
        "if(n3 > n2):\n",
        "  aux = n3\n",
        "  n3 = n2\n",
        "  n2 = aux\n",
        "\n",
        "print (n1,n2,n3)"
      ],
      "execution_count": null,
      "outputs": [
        {
          "output_type": "stream",
          "text": [
            "insira um numero1\n",
            "insira um numero2\n",
            "insira um numero3\n",
            "1 2 3\n",
            "3 2 1\n"
          ],
          "name": "stdout"
        }
      ]
    },
    {
      "cell_type": "markdown",
      "metadata": {
        "id": "l_j8vq5hJgrE",
        "colab_type": "text"
      },
      "source": [
        "**3** As Organizações Tabajara resolveram dar um aumento de salário aos seus colaboradores e lhe contrataram para desenvolver o programa que calculará os reajustes.\n",
        "\n",
        "Faça um programa que recebe o salário de um colaborador e o reajuste segundo o seguinte critério, baseado no salário atual:\n",
        "- salários até R\\$ 280,00 (incluindo) : aumento de 20%\n",
        "- salários entre R\\$ 280,00 e R\\$ 700,00 : aumento de 15%\n",
        "- salários entre R\\$ 700,00 e R\\$ 1500,00 : aumento de 10%\n",
        "- salários de R\\$ 1500,00 em diante : aumento de 5% \n",
        "\n",
        "Após o aumento ser realizado, informe na tela:\n",
        "- o salário antes do reajuste;\n",
        "- o percentual de aumento aplicado;\n",
        "- o valor do aumento;\n",
        "- o novo salário, após o aumento."
      ]
    },
    {
      "cell_type": "code",
      "metadata": {
        "id": "29h4ucCsJgrF",
        "colab_type": "code",
        "colab": {
          "base_uri": "https://localhost:8080/",
          "height": 102
        },
        "outputId": "61cebd17-c9fc-48cc-f8b5-94b052ab1ca1"
      },
      "source": [
        "#solução\n",
        "salario = float(input('Qual o salario do colaborador? '))\n",
        "\n",
        "if (salario <= 280):\n",
        "  percentual = 20\n",
        "elif (salario <=700):\n",
        "  percentual = 15\n",
        "elif (salario <=1500):\n",
        "  salario = 10\n",
        "else:\n",
        "  percentual = 5\n",
        "\n",
        "print ('Salario original: R$ ', salario)\n",
        "print('Percentual',percentual,'%')\n",
        "\n",
        "percentual = percentual/100.0\n",
        "aumento = percentual * salario\n",
        "nSalario = salario + aumento\n",
        "\n",
        "print('Aumento: R$ ', aumento)\n",
        "print('Novo salario: R$ ', nSalario)\n",
        "\n"
      ],
      "execution_count": null,
      "outputs": [
        {
          "output_type": "stream",
          "text": [
            "Qual o salario do colaborador? 100\n",
            "Salario original: R$  100.0\n",
            "Percentual 20 %\n",
            "Aumento: R$  20.0\n",
            "Novo salario: R$  120.0\n"
          ],
          "name": "stdout"
        }
      ]
    },
    {
      "cell_type": "markdown",
      "metadata": {
        "id": "V3QVZZ9mJgrL",
        "colab_type": "text"
      },
      "source": [
        "**4** Faça um Programa que leia um número e exiba o dia correspondente da semana. (1-Domingo, 2- Segunda, etc.), se digitar outro valor deve aparecer valor inválido."
      ]
    },
    {
      "cell_type": "code",
      "metadata": {
        "id": "uUXxTOLZJgrN",
        "colab_type": "code",
        "colab": {
          "base_uri": "https://localhost:8080/",
          "height": 68
        },
        "outputId": "2c9dbb37-77eb-47fa-a3be-5150b7c26e9f"
      },
      "source": [
        "#solução\n",
        "semana = int(input('Digite um numero de 1 a 7: '))\n",
        "\n",
        "if semana == 1:\n",
        "  print('1 -> Domingo')\n",
        "elif semana == 2:\n",
        "  print('2 -> Segunda feira')\n",
        "elif semana == 3:\n",
        "  print('3 -> Terça feira')\n",
        "elif semana == 4:\n",
        "  print('4 -> Quarta-feira')\n",
        "elif semana == 5:\n",
        "  print('5 -> Quinta feira')\n",
        "elif semana == 6:\n",
        "  print('6 -> Sexta-feira')\n",
        "elif semana == 7:\n",
        "  print('7 -> sabado')\n",
        "else:\n",
        "  print('valor invalido')\n",
        "  \n",
        "print (semana)"
      ],
      "execution_count": null,
      "outputs": [
        {
          "output_type": "stream",
          "text": [
            "Digite um numero de 1 a 7: 10\n",
            "valor invalido\n",
            "10\n"
          ],
          "name": "stdout"
        }
      ]
    },
    {
      "cell_type": "markdown",
      "metadata": {
        "id": "J1pQ8VrUJgrW",
        "colab_type": "text"
      },
      "source": [
        "**5** Faça um Programa que peça os 3 lados de um triângulo. O programa deverá informar se os valores podem ser um triângulo. Indique, caso os lados formem um triângulo, se o mesmo é: equilátero, isósceles ou escaleno.\n",
        "\n",
        "Dicas:\n",
        "- Três lados formam um triângulo quando a soma de quaisquer dois lados for maior que o terceiro;\n",
        "- Triângulo Equilátero: três lados iguais;\n",
        "- Triângulo Isósceles: quaisquer dois lados iguais;\n",
        "- Triângulo Escaleno: três lados diferentes;\n"
      ]
    },
    {
      "cell_type": "code",
      "metadata": {
        "id": "OtoNsIaEJgrY",
        "colab_type": "code",
        "colab": {
          "base_uri": "https://localhost:8080/",
          "height": 85
        },
        "outputId": "80c2cc98-212c-44fe-da73-8ffc004478d6"
      },
      "source": [
        "#solução\n",
        "l1 = int(input('Digita o valor de um dos lados do triangulo: '))\n",
        "l2 = int(input('Digita o valor de um dos lados do triangulo: '))\n",
        "l3 = int(input('Digita o valor de um dos lados do triangulo: '))\n",
        "\n",
        "if l1>=l2+l3 or l2>=l3+l1 or l3>=l1+l2:\n",
        "  print('nao pode ser um triangulo')\n",
        "elif l1 == l2 == l3:\n",
        "  print ('Triangulo equilatero')\n",
        "elif (l1 == l2) or (l1 == l3) or (l2 == l3):\n",
        "  print('Triangulo Isosceles')\n",
        "else:\n",
        "  print ('Triangulo escaleno')\n"
      ],
      "execution_count": null,
      "outputs": [
        {
          "output_type": "stream",
          "text": [
            "Digita o valor de um dos lados do triangulo: 5\n",
            "Digita o valor de um dos lados do triangulo: 5\n",
            "Digita o valor de um dos lados do triangulo: 5\n",
            "Triangulo equilatero\n"
          ],
          "name": "stdout"
        }
      ]
    },
    {
      "cell_type": "markdown",
      "metadata": {
        "id": "hciQ_oxaJgrd",
        "colab_type": "text"
      },
      "source": [
        "**6** Faça um programa que calcule as raízes de uma equação do segundo grau, na forma `ax2 + bx + c`. O programa deverá pedir os valores de `a`, `b` e `c` e fazer as consistências, informando ao usuário nas seguintes situações:\n",
        "\n",
        "- Se o usuário informar o valor de A igual a zero, a equação não é do segundo grau e o programa não deve fazer pedir os demais valores, sendo encerrado;\n",
        "- Se o delta calculado for negativo, a equação não possui raizes reais. Informe ao usuário e encerre o programa;\n",
        "- Se o delta calculado for igual a zero a equação possui apenas uma raiz real; informe-a ao usuário;\n",
        "- Se o delta for positivo, a equação possui duas raiz reais; informe-as ao usuário."
      ]
    },
    {
      "cell_type": "code",
      "metadata": {
        "id": "gqn67cDgJgri",
        "colab_type": "code",
        "colab": {
          "base_uri": "https://localhost:8080/",
          "height": 102
        },
        "outputId": "848cf211-10ad-4497-c0fa-023f015e6e1c"
      },
      "source": [
        "#solução\n",
        "\n",
        "a = float(input('Insira um valor '))\n",
        "b = float(input('insira um valor '))\n",
        "c = float(input('insira um valor '))\n",
        "\n",
        "delta = 0\n",
        "raiz1 = 0\n",
        "raiz2 = 0\n",
        "\n",
        "if a == 0: \n",
        "  print('A equecação nao é de segundo grau')\n",
        "\n",
        "else:\n",
        "  print('Calculando delta...')\n",
        "  delta = (((b**2) - (4*a*c))) \n",
        "\n",
        "if delta == 0:\n",
        "  print('A equação possui apenas uma raiz que é: ')\n",
        "  raiz1 = ((-b)+(delta**(1/2))/(2*a))\n",
        "  print(raiz1)\n",
        "else:\n",
        "  raiz1 = ((-b)+(delta**(1/2))/(2*a))\n",
        "  raiz2 = ((-b)-(delta**(1/2))/(2*a))\n",
        "  print('A equação possui duas raizes que sao: ', raiz1, 'e', raiz2)\n"
      ],
      "execution_count": null,
      "outputs": [
        {
          "output_type": "stream",
          "text": [
            "Insira um valor 4\n",
            "insira um valor 2\n",
            "insira um valor 8\n",
            "Calculando delta...\n",
            "A equação possui duas raizes que sao:  (-2+1.3919410907075054j) e (-2-1.3919410907075054j)\n"
          ],
          "name": "stdout"
        }
      ]
    },
    {
      "cell_type": "markdown",
      "metadata": {
        "id": "Unthq2BRJgrn",
        "colab_type": "text"
      },
      "source": [
        "**7** Faça um programa que faça 5 perguntas para uma pessoa sobre um crime. As perguntas são:\n",
        "- \"Telefonou para a vítima?\"\n",
        "- \"Esteve no local do crime?\"\n",
        "- \"Mora perto da vítima?\"\n",
        "- \"Devia para a vítima?\"\n",
        "- \"Já trabalhou com a vítima?\" \n",
        "\n",
        "O programa deve no final emitir uma classificação sobre a participação da pessoa no crime. Se a pessoa responder positivamente a 2 questões ela deve ser classificada como \"Suspeita\", entre 3 e 4 como \"Cúmplice\" e 5 como \"Assassino\". Caso contrário, ele será classificado como \"Inocente\"."
      ]
    },
    {
      "cell_type": "code",
      "metadata": {
        "id": "jEsN_LbcJgrq",
        "colab_type": "code",
        "colab": {
          "base_uri": "https://localhost:8080/",
          "height": 153
        },
        "outputId": "1f0b231d-234f-4ee0-8652-da8adadca063"
      },
      "source": [
        "#solução\n",
        "print('que comece os jogos')\n",
        "print('--------------------')\n",
        "\n",
        "res = []\n",
        "\n",
        "res.append (input('Telefonou para a vitima? 1/Sim ou 0/Nao):'))\n",
        "res.append (input('Esteve no local do crime? 1/Sim ou 0/Nao: '))\n",
        "res.append (input('Mora perto da vitima? 1/Sim ou 0/Nao: '))\n",
        "res.append (input('Devia para a vitima? 1/Sim ou 0/Nao: '))\n",
        "res.append (input('Ja trabalhou com a vitima? 1/Sim ou 0/Nao'))\n",
        "\n",
        "soma = 0\n",
        "for i in res:\n",
        "  soma += int(i)\n",
        "if (soma < 2):\n",
        "  print('Inocente')\n",
        "elif (soma == 2):\n",
        "  print('Suspeito')\n",
        "elif(3 <= soma <=4):\n",
        "  print('Cumplice')\n",
        "elif(soma == 5):\n",
        "  print('Assassino')"
      ],
      "execution_count": null,
      "outputs": [
        {
          "output_type": "stream",
          "text": [
            "que comece os jogos\n",
            "--------------------\n",
            "Telefonou para a vitima? 1/Sim ou 0/Nao):1\n",
            "Esteve no local do crime? 1/Sim ou 0/Nao: 0\n",
            "Mora perto da vitima? 1/Sim ou 0/Nao: 1\n",
            "Devia para a vitima? 1/Sim ou 0/Nao: 0\n",
            "Ja trabalhou com a vitima? 1/Sim ou 0/Nao1\n",
            "Cumplice\n"
          ],
          "name": "stdout"
        }
      ]
    },
    {
      "cell_type": "markdown",
      "metadata": {
        "id": "eClbfyNvJgrx",
        "colab_type": "text"
      },
      "source": [
        "**8** Faça um programa que peça uma nota, entre zero e dez. Mostre uma mensagem caso o valor seja inválido e continue pedindo até que o usuário informe um valor válido."
      ]
    },
    {
      "cell_type": "code",
      "metadata": {
        "id": "PbPTIsg9Jgrz",
        "colab_type": "code",
        "colab": {
          "base_uri": "https://localhost:8080/",
          "height": 141
        },
        "outputId": "d8d1a792-a57e-4e38-f93e-4d1dcc3b49b8"
      },
      "source": [
        "#solução\n",
        "valor = int(input('Insira um valor de 0-10 '))\n",
        "\n",
        "while (valor > 0) or (valor < 10):\n",
        "  valor = int(input('Insira um valor de 0-10 '))\n",
        "  print('valor invalido')\n",
        "\n",
        "\n"
      ],
      "execution_count": null,
      "outputs": [
        {
          "output_type": "stream",
          "text": [
            "Insira um valor de 0-10 10\n",
            "Insira um valor de 0-10 5\n",
            "valor invalido\n",
            "Insira um valor de 0-10 11\n",
            "valor invalido\n"
          ],
          "name": "stdout"
        }
      ]
    },
    {
      "cell_type": "markdown",
      "metadata": {
        "id": "ZRF-o2VTJgr4",
        "colab_type": "text"
      },
      "source": [
        "**9** Faça um programa que leia 5 números e informe a soma e a média dos números."
      ]
    },
    {
      "cell_type": "code",
      "metadata": {
        "id": "JgQAuB67Jgr6",
        "colab_type": "code",
        "colab": {
          "base_uri": "https://localhost:8080/",
          "height": 119
        },
        "outputId": "89cf52d1-739d-40c2-f785-8c4c091949fd"
      },
      "source": [
        "#solução\n",
        "n1 = int(input('Insira o 1º numero: '))\n",
        "n2 = int(input('Insira o 2º numero: '))\n",
        "n3 = int(input('Insira o 3º numero: '))\n",
        "n4 = int(input('Insira o 4º numero: '))\n",
        "n5 = int(input('Insira o 5º numero: '))\n",
        "\n",
        "soma = n1 + n2 + n3 + n4 + n5\n",
        "media = soma /5\n",
        "\n",
        "print ('O valor da toma = ', soma,'e sua media = ',media)"
      ],
      "execution_count": null,
      "outputs": [
        {
          "output_type": "stream",
          "text": [
            "Insira o 1º numero10\n",
            "Insira o 2º numero203\n",
            "Insira o 3º numero4\n",
            "Insira o 4º numero8\n",
            "Insira o 5º numero6\n",
            "O valor da toma =  231 e sua media =  46.2\n"
          ],
          "name": "stdout"
        }
      ]
    },
    {
      "cell_type": "markdown",
      "metadata": {
        "id": "WybrBNWdJgsD",
        "colab_type": "text"
      },
      "source": [
        "**10** Faça um programa que imprima na tela apenas os números ímpares entre 1 e 50."
      ]
    },
    {
      "cell_type": "code",
      "metadata": {
        "id": "-QGlMeMHJgsF",
        "colab_type": "code",
        "colab": {
          "base_uri": "https://localhost:8080/",
          "height": 442
        },
        "outputId": "28769b65-91bd-477f-a5ea-b7c5f95783c2"
      },
      "source": [
        "#solução\n",
        "for i in  range(1,50,2):\n",
        "  print (i)"
      ],
      "execution_count": null,
      "outputs": [
        {
          "output_type": "stream",
          "text": [
            "1\n",
            "3\n",
            "5\n",
            "7\n",
            "9\n",
            "11\n",
            "13\n",
            "15\n",
            "17\n",
            "19\n",
            "21\n",
            "23\n",
            "25\n",
            "27\n",
            "29\n",
            "31\n",
            "33\n",
            "35\n",
            "37\n",
            "39\n",
            "41\n",
            "43\n",
            "45\n",
            "47\n",
            "49\n"
          ],
          "name": "stdout"
        }
      ]
    },
    {
      "cell_type": "markdown",
      "metadata": {
        "id": "8Fr_TysCJgsK",
        "colab_type": "text"
      },
      "source": [
        "**11** Desenvolva um gerador de tabuada, capaz de gerar a tabuada de qualquer número inteiro entre 1 a 10. O usuário deve informar de qual numero ele deseja ver a tabuada. A saída deve ser conforme o exemplo abaixo:\n",
        "\n",
        "`\n",
        "Tabuada do 5:\n",
        "5 X 1 = 5\n",
        "5 X 2 = 10\n",
        "...\n",
        "5 X 10 = 50\n",
        "`"
      ]
    },
    {
      "cell_type": "code",
      "metadata": {
        "id": "eatcwxHAJgsL",
        "colab_type": "code",
        "colab": {
          "base_uri": "https://localhost:8080/",
          "height": 221
        },
        "outputId": "3d2531cd-ced2-495b-f0be-ed04911d7d1e"
      },
      "source": [
        "#solução\n",
        "num = int(input('Qual tabuada voce deseja?, Digite um numero entre 1 e 10: '))\n",
        "\n",
        "print('Tabuada do numero', num)\n",
        "for i in range (1,11):\n",
        "  print(num, 'X', i, '= ',num * i)\n"
      ],
      "execution_count": null,
      "outputs": [
        {
          "output_type": "stream",
          "text": [
            "Qual tabuada voce deseja?, Digite um numero entre 1 e 104\n",
            "Tabuada do numero 4\n",
            "4 X 1 =  4\n",
            "4 X 2 =  8\n",
            "4 X 3 =  12\n",
            "4 X 4 =  16\n",
            "4 X 5 =  20\n",
            "4 X 6 =  24\n",
            "4 X 7 =  28\n",
            "4 X 8 =  32\n",
            "4 X 9 =  36\n",
            "4 X 10 =  40\n"
          ],
          "name": "stdout"
        }
      ]
    },
    {
      "cell_type": "markdown",
      "metadata": {
        "id": "i6QHNwT2JgsT",
        "colab_type": "text"
      },
      "source": [
        "**12** A série de Fibonacci é formada pela seqüência 1,1,2,3,5,8,13,21,34,55,... Faça um programa capaz de gerar a série até o n−ésimo termo."
      ]
    },
    {
      "cell_type": "code",
      "metadata": {
        "id": "zk2vxHe2JgsV",
        "colab_type": "code",
        "colab": {
          "base_uri": "https://localhost:8080/",
          "height": 170
        },
        "outputId": "1bcf0bf0-830b-4b1d-a363-5e3ed347bd23"
      },
      "source": [
        "#solução\n",
        "n = int(input('até que termo deseja encontrar a sequencia? '))\n",
        "ultimo = 1\n",
        "penultimo = 1 \n",
        "if (n ==1) or (n ==2):\n",
        "  print('1')\n",
        "else:\n",
        "  count = 3\n",
        "  while count <= n:\n",
        "    termo = ultimo + penultimo\n",
        "    penultimo = ultimo\n",
        "    ultimo = termo\n",
        "    count += 1\n",
        "    print(termo)\n",
        "\n"
      ],
      "execution_count": null,
      "outputs": [
        {
          "output_type": "stream",
          "text": [
            "até que termo deseja encontrar a sequencia? 10\n",
            "2\n",
            "3\n",
            "5\n",
            "8\n",
            "13\n",
            "21\n",
            "34\n",
            "55\n"
          ],
          "name": "stdout"
        }
      ]
    },
    {
      "cell_type": "markdown",
      "metadata": {
        "id": "qALdPEaLJgsa",
        "colab_type": "text"
      },
      "source": [
        "**13** Faça um programa que calcule o fatorial de um número inteiro fornecido pelo usuário. Ex.: 5!=5.4.3.2.1=120"
      ]
    },
    {
      "cell_type": "code",
      "metadata": {
        "id": "XvrBAx9KJgsb",
        "colab_type": "code",
        "colab": {
          "base_uri": "https://localhost:8080/",
          "height": 102
        },
        "outputId": "27639bf5-c9df-4f8d-d01d-8ef0d4b81edc"
      },
      "source": [
        "#solução\n",
        "n = int(input('Digite o valor de um numero: '))\n",
        "\n",
        "fatorial = 1\n",
        "\n",
        "for i in range (2,n +1):\n",
        "  fatorial = fatorial * i\n",
        "  print(\"%d! = %d\" %(n, fatorial))\n"
      ],
      "execution_count": null,
      "outputs": [
        {
          "output_type": "stream",
          "text": [
            "Digite o valor de um numero: 5\n",
            "5! = 2\n",
            "5! = 6\n",
            "5! = 24\n",
            "5! = 120\n"
          ],
          "name": "stdout"
        }
      ]
    },
    {
      "cell_type": "markdown",
      "metadata": {
        "id": "xI1j-NvcJgsf",
        "colab_type": "text"
      },
      "source": [
        "**14** Faça um programa que receba o valor de uma dívida e mostre uma tabela com os seguintes dados: valor da dívida, valor dos juros, quantidade de parcelas e valor da parcela.\n",
        "\n",
        "Os juros e a quantidade de parcelas seguem a tabela abaixo:\n",
        "\n",
        "|Quantidade de Parcelas|% de Juros sobre o valor inicial da dívida|\n",
        "|:-|:-|\n",
        "|1       |0\n",
        "|3       |10\n",
        "|6       |15\n",
        "|9       |20\n",
        "|12      |25\n",
        "\n",
        "Exemplo de saída do programa:\n",
        "\n",
        "|Valor da Dívida|Valor dos Juros|Quantidade de Parcelas|Valor da Parcela|\n",
        "|:-|:-|:-|:-|\n",
        "|1.000,00|0|1|1.000,00\n",
        "|1.100,00|100|3|366,00\n",
        "|1.150,00|150|6|191,67\n"
      ]
    },
    {
      "cell_type": "code",
      "metadata": {
        "id": "ytSN2wvCJgsm",
        "colab_type": "code",
        "colab": {
          "base_uri": "https://localhost:8080/",
          "height": 187
        },
        "outputId": "02fd9a3a-1fe8-46b0-8af8-bc5e6aecc35f"
      },
      "source": [
        "#solução\n",
        "divida = float(input('Insira o valor da divida: '))\n",
        "parcela = float(input('Insira o valor de parcela: '))\n",
        "\n",
        "print('\\n' * 5)\n",
        "print('Valor da divida: ', end=' ')\n",
        "print('valor do juros: ' , end=' ')\n",
        "print('Quantidade de parcelas: ', end = ' ')\n",
        "print('Valor da parcela: ')\n",
        "\n",
        "for i in range(5):\n",
        "  if parcela == 1:\n",
        "    juros = 1\n",
        "    valor_juros = 0\n",
        "  elif parcela == 4:\n",
        "    parcela = 3\n",
        "    juros = 1.10\n",
        "  elif parcela == 7 or parcela == 6:\n",
        "    parcela = 6\n",
        "    juros = 1.15\n",
        "  elif parcela == 10 or parcela == 9:\n",
        "    parcela = 9\n",
        "    juros = 1.20\n",
        "  elif parcela == 13 or parcela == 12:\n",
        "    parcela = 12\n",
        "    juros = 1.25\n",
        "\n",
        "valor_juros = divida * (juros -1)\n",
        "divida_com_juros = divida * juros\n",
        "valor_parcela = divida_com_juros / parcela\n",
        "\n",
        "print('R$', round(divida_com_juros,2), end= '                ')\n",
        "print(round(valor_juros,2), end = '           ')\n",
        "print(parcela, end = '                      ')\n",
        "print('R$', round(valor_parcela,2))\n",
        "parcela += 3\n"
      ],
      "execution_count": null,
      "outputs": [
        {
          "output_type": "stream",
          "text": [
            "Insira o valor da divida: 50\n",
            "Insira o valor de parcela: 2\n",
            "\n",
            "\n",
            "\n",
            "\n",
            "\n",
            "\n",
            "Valor da divida:  valor do juros:  Quantidade de parcelas:  Valor da parcela: \n",
            "R$ 55.0                5.0           2.0                      R$ 27.5\n"
          ],
          "name": "stdout"
        }
      ]
    },
    {
      "cell_type": "markdown",
      "metadata": {
        "id": "q4oWGQpwJgss",
        "colab_type": "text"
      },
      "source": [
        "**15** A ACME Inc., uma empresa de 500 funcionários, está tendo problemas de espaço em disco no seu servidor de arquivos. Para tentar resolver este problema, o Administrador de Rede precisa saber qual o espaço ocupado pelos usuários, e identificar os usuários com maior espaço ocupado. Através de um programa, baixado da Internet, ele conseguiu gerar o seguinte arquivo, chamado \"usuarios.txt\":\n",
        "\n",
        "```\n",
        "alexandre       456123789\n",
        "anderson        1245698456\n",
        "antonio         123456456\n",
        "carlos          91257581\n",
        "cesar           987458\n",
        "rosemary        789456125\n",
        "```\n",
        "\n",
        "Neste arquivo, o nome do usuário possui 15 caracteres. A partir deste arquivo, você deve criar um programa que gere um relatório, chamado \"relatório.txt\", no seguinte formato:\n",
        "\n",
        "```\n",
        "ACME Inc.   Uso do espaço em disco pelos usuários\n",
        "-------------------------------------------------\n",
        "Nr.  Usuário        Espaço utilizado     % do uso\n",
        "---- -------------- ---------------- ------------\n",
        "1    alexandre             434,99 MB       16,85%\n",
        "2    anderson             1187,99 MB       46,02%\n",
        "3    antonio               117,73 MB        4,56%\n",
        "4    carlos                 87,03 MB        3,37%\n",
        "5    cesar                   0,94 MB        0,04%\n",
        "6    rosemary              752,88 MB       29,16%\n",
        "\n",
        "Espaço total ocupado: 2581,57 MB\n",
        "Espaço médio ocupado: 430,26 MB\n",
        "```\n",
        "\n",
        "\n",
        "O arquivo de entrada deve ser lido uma única vez, e os dados armazenados em memória, caso sejam necessários, de forma a agilizar a execução do programa. A conversão da espaço ocupado em disco, de bytes para megabytes deverá ser feita através de uma função separada, que será chamada pelo programa principal. O cálculo do percentual de uso também deverá ser feito através de uma função, que será chamada pelo programa principal.\n"
      ]
    },
    {
      "cell_type": "code",
      "metadata": {
        "id": "GVO1iOk6Jgsu",
        "colab_type": "code",
        "colab": {
          "base_uri": "https://localhost:8080/",
          "height": 231
        },
        "outputId": "d069d2c1-5125-41f9-8430-be7556841363"
      },
      "source": [
        "def toMB(tamanhoEmBytes):\n",
        "   tamanhoEmBytes = float(tamanhoEmBytes)\n",
        "   return (float(tamanhoEmBytes/(1024*1024)))\n",
        "   \n",
        "def percentualPorUsuario(lista, total):\n",
        "   percentual = (lista[3]/total)*100\n",
        "   #percentual = \"{0:.2f}\".format(percentual)\n",
        "   lista.insert((len(cadaUsuario)),percentual)\n",
        "\n",
        "def espacoMedioOcupado(lista, total):\n",
        "   media = 0\n",
        "   elementos = len(lista)\n",
        "   media = (total)/(elementos+1)\n",
        "   #media = \"{0:.2f}\".format(media)\n",
        "   return media\n",
        "\n",
        "#MAIN\n",
        "usuarios = []\n",
        "posicao = 1\n",
        "total = media = 0\n",
        "with open (\"usuarios.txt\",\"r\") as arquivo:\n",
        "   valor = 0\n",
        "   for linha in arquivo:\n",
        "      usuarios.append(linha.split()) \n",
        "\n",
        "   for cadaUsuario in usuarios:\n",
        "      cadaUsuario.insert(0,posicao)\n",
        "      valor = toMB(float(cadaUsuario[2]))\n",
        "      total += valor\n",
        "      cadaUsuario.insert((len(cadaUsuario)),valor)\n",
        "      posicao+=1\n",
        "\n",
        "   for cadaUsuario in usuarios:\n",
        "      percentualPorUsuario(cadaUsuario, total)\n",
        "\n",
        "media = espacoMedioOcupado(cadaUsuario,total)\n",
        "\n",
        "with open (\"relatorio.txt\",\"w\") as arquivo:\n",
        "   arquivo.write(\"ACME Inc.               Uso do espaço em disco pelos usuários.\\n\")\n",
        "   arquivo.write(\"--------------------------------------------------------------\\n\")\n",
        "   arquivo.write(\"Nr.\\tUsuário        \\tEspaço utilizado\\t% do uso\\n\\n\")\n",
        "\n",
        "   for cadaUsuario in usuarios:\n",
        "      percentagem=\"{0:.2f}\".format(round(cadaUsuario[3],2))\n",
        "      arquivo.write(str(cadaUsuario[0])+'\\t'+\"{:<15}\".format(cadaUsuario[1])+'\\t'+\"{:<16}\".format(percentagem)+'MB'+'\\t'+\"{0:.2f}\".format(cadaUsuario[4])+'%'+'\\n')\n",
        "\n",
        "   arquivo.write('\\n\\nEspaço Total Ocupado: ' + \"{0:.2f}\".format(total) + ' MB')\n",
        "   arquivo.write('\\n\\nEspaço médio Ocupado: ' + \"{0:.2f}\".format(media) + ' MB')\n",
        "   arquivo.close()\n",
        "\n",
        "with open (\"relatorio.txt\",\"r\") as arquivo:\n",
        "   print(arquivo.read())"
      ],
      "execution_count": null,
      "outputs": [
        {
          "output_type": "error",
          "ename": "FileNotFoundError",
          "evalue": "ignored",
          "traceback": [
            "\u001b[0;31m---------------------------------------------------------------------------\u001b[0m",
            "\u001b[0;31mFileNotFoundError\u001b[0m                         Traceback (most recent call last)",
            "\u001b[0;32m<ipython-input-37-9e518021a5f8>\u001b[0m in \u001b[0;36m<module>\u001b[0;34m()\u001b[0m\n\u001b[1;32m     19\u001b[0m \u001b[0mposicao\u001b[0m \u001b[0;34m=\u001b[0m \u001b[0;36m1\u001b[0m\u001b[0;34m\u001b[0m\u001b[0;34m\u001b[0m\u001b[0m\n\u001b[1;32m     20\u001b[0m \u001b[0mtotal\u001b[0m \u001b[0;34m=\u001b[0m \u001b[0mmedia\u001b[0m \u001b[0;34m=\u001b[0m \u001b[0;36m0\u001b[0m\u001b[0;34m\u001b[0m\u001b[0;34m\u001b[0m\u001b[0m\n\u001b[0;32m---> 21\u001b[0;31m \u001b[0;32mwith\u001b[0m \u001b[0mopen\u001b[0m \u001b[0;34m(\u001b[0m\u001b[0;34m\"usuarios.txt\"\u001b[0m\u001b[0;34m,\u001b[0m\u001b[0;34m\"r\"\u001b[0m\u001b[0;34m)\u001b[0m \u001b[0;32mas\u001b[0m \u001b[0marquivo\u001b[0m\u001b[0;34m:\u001b[0m\u001b[0;34m\u001b[0m\u001b[0;34m\u001b[0m\u001b[0m\n\u001b[0m\u001b[1;32m     22\u001b[0m    \u001b[0mvalor\u001b[0m \u001b[0;34m=\u001b[0m \u001b[0;36m0\u001b[0m\u001b[0;34m\u001b[0m\u001b[0;34m\u001b[0m\u001b[0m\n\u001b[1;32m     23\u001b[0m    \u001b[0;32mfor\u001b[0m \u001b[0mlinha\u001b[0m \u001b[0;32min\u001b[0m \u001b[0marquivo\u001b[0m\u001b[0;34m:\u001b[0m\u001b[0;34m\u001b[0m\u001b[0;34m\u001b[0m\u001b[0m\n",
            "\u001b[0;31mFileNotFoundError\u001b[0m: [Errno 2] No such file or directory: 'usuarios.txt'"
          ]
        }
      ]
    },
    {
      "cell_type": "code",
      "metadata": {
        "id": "6BKG2CIV6w4F",
        "colab_type": "code",
        "colab": {}
      },
      "source": [
        ""
      ],
      "execution_count": null,
      "outputs": []
    }
  ]
}