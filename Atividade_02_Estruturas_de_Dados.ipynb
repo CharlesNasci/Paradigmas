{
  "nbformat": 4,
  "nbformat_minor": 0,
  "metadata": {
    "colab": {
      "name": "Atividade 02 - Estruturas de Dados.ipynb",
      "provenance": [],
      "include_colab_link": true
    },
    "kernelspec": {
      "display_name": "Python 3",
      "language": "python",
      "name": "python3"
    },
    "language_info": {
      "codemirror_mode": {
        "name": "ipython",
        "version": 3
      },
      "file_extension": ".py",
      "mimetype": "text/x-python",
      "name": "python",
      "nbconvert_exporter": "python",
      "pygments_lexer": "ipython3",
      "version": "3.6.4"
    }
  },
  "cells": [
    {
      "cell_type": "markdown",
      "metadata": {
        "id": "view-in-github",
        "colab_type": "text"
      },
      "source": [
        "<a href=\"https://colab.research.google.com/github/CharlesNasci/Paradigmas/blob/master/Atividade_02_Estruturas_de_Dados.ipynb\" target=\"_parent\"><img src=\"https://colab.research.google.com/assets/colab-badge.svg\" alt=\"Open In Colab\"/></a>"
      ]
    },
    {
      "cell_type": "markdown",
      "metadata": {
        "id": "8nbeSc8QjWOO",
        "colab_type": "text"
      },
      "source": [
        "![logo_usjt.png](https://www.usjt.br/app/themes/mobister/dist/images/sao-judas-universidade.png)"
      ]
    },
    {
      "cell_type": "markdown",
      "metadata": {
        "id": "lSlYGg_tjWOV",
        "colab_type": "text"
      },
      "source": [
        "# Paradigmas de Linguagens de Programação\n",
        "- **Professor**: Sergio Bonato <antonio.bonato@saojudas.br>"
      ]
    },
    {
      "cell_type": "markdown",
      "metadata": {
        "id": "MmIiimlnjWOY",
        "colab_type": "text"
      },
      "source": [
        "# Atividade02 - Python Básico - Estruturas de Dados\n",
        "\n",
        "**Conteúdo:**\n",
        "- Listas\n",
        "- Dicionários \n",
        "- Tuplas\n",
        "- Sets"
      ]
    },
    {
      "cell_type": "markdown",
      "metadata": {
        "id": "aElUpa6QjWOa",
        "colab_type": "text"
      },
      "source": [
        "## Autor\n",
        "- **Aluno:**\n",
        "\n",
        "Obs: as tarefas devem ser individuais."
      ]
    },
    {
      "cell_type": "markdown",
      "metadata": {
        "id": "SBoAaDNujWOc",
        "colab_type": "text"
      },
      "source": [
        "## Exercícios"
      ]
    },
    {
      "cell_type": "markdown",
      "metadata": {
        "id": "iL6TQG50jWOf",
        "colab_type": "text"
      },
      "source": [
        "#### 1 Escreva um programa que some todos os itens da lista:\n",
        "`[1,2,3,4,5,6,7,8,9,10]`."
      ]
    },
    {
      "cell_type": "code",
      "metadata": {
        "id": "ICPKJZTojWOi",
        "colab_type": "code",
        "colab": {
          "base_uri": "https://localhost:8080/",
          "height": 34
        },
        "outputId": "b152d346-00ef-485d-9ec7-b8ea46e74127"
      },
      "source": [
        "#solução\n",
        "lista = [1,2,3,4,5,6,7,8,9,10]\n",
        "soma = sum(lista)\n",
        "print(soma)"
      ],
      "execution_count": null,
      "outputs": [
        {
          "output_type": "stream",
          "text": [
            "55\n"
          ],
          "name": "stdout"
        }
      ]
    },
    {
      "cell_type": "markdown",
      "metadata": {
        "id": "sz9Xhn4SjWOs",
        "colab_type": "text"
      },
      "source": [
        "#### 2 Escreva um programa que some todos os valores do dicionário:\n",
        "`{'a':1, 'b':2, 'c':3, 'd':4, 'e':5, 'f':6, 'g':7, 'h':8, 'i':9, 'j':10}`."
      ]
    },
    {
      "cell_type": "code",
      "metadata": {
        "id": "QdqGnMaYjWOw",
        "colab_type": "code",
        "colab": {
          "base_uri": "https://localhost:8080/",
          "height": 34
        },
        "outputId": "0bda7d3d-91e1-47dd-e63b-9151f05d8957"
      },
      "source": [
        "#solução\n",
        "dici = {'a':1, 'b':2, 'c':3, 'd':4, 'e':5, 'f':6, 'g':7, 'h':8, 'i':9, 'j':10}\n",
        "somar = sum(map(lambda dici:int(dici),dici.values()))\n",
        "print (somar)"
      ],
      "execution_count": null,
      "outputs": [
        {
          "output_type": "stream",
          "text": [
            "55\n"
          ],
          "name": "stdout"
        }
      ]
    },
    {
      "cell_type": "markdown",
      "metadata": {
        "id": "ky_I9y6yjWO1",
        "colab_type": "text"
      },
      "source": [
        "#### 3 Escreva um programa que some todos os itens da tupla:\n",
        "`(1,2,3,4,5,6,7,8,9,10)`."
      ]
    },
    {
      "cell_type": "code",
      "metadata": {
        "id": "Njabm5iZjWO3",
        "colab_type": "code",
        "colab": {
          "base_uri": "https://localhost:8080/",
          "height": 34
        },
        "outputId": "7d3742ca-11c1-4828-db21-e92bb2f40f1d"
      },
      "source": [
        "#solução\n",
        "t = (1,2,3,4,5,6,7,8,9,10)\n",
        "s = sum(t)\n",
        "print (s)"
      ],
      "execution_count": null,
      "outputs": [
        {
          "output_type": "stream",
          "text": [
            "55\n"
          ],
          "name": "stdout"
        }
      ]
    },
    {
      "cell_type": "markdown",
      "metadata": {
        "id": "-I5xqg7vjWO_",
        "colab_type": "text"
      },
      "source": [
        "#### 4 Crie um programa que recebe uma lista de números e\n",
        "- retorne o maior elemento\n",
        "- retorne a soma dos elementos\n",
        "- retorne o número de ocorrências do primeiro elemento da lista\n",
        "- retorne a média dos elementos\n",
        "- retorne a mediana dos elementos (procure mediana na Wikipedia)"
      ]
    },
    {
      "cell_type": "code",
      "metadata": {
        "id": "n_LzFYgYjWPB",
        "colab_type": "code",
        "colab": {
          "base_uri": "https://localhost:8080/",
          "height": 85
        },
        "outputId": "b65348fb-ada4-4f4e-c65c-5d653bf47c7b"
      },
      "source": [
        "#solução\n",
        "l = [1,1,2,4,50,41,67,53,80]\n",
        "maior = max(l)\n",
        "soma = sum(l)\n",
        "ocorrencia = l.count(1)\n",
        "media = soma / len(l)\n",
        "\n",
        "print (\"O maior numero da lista é \", maior)\n",
        "print (\"O soma dos elementos da lista é \", soma)\n",
        "print (\"O  primeiro numero aparece\", ocorrencia,'x')\n",
        "print (\"O media da elementos da lista é \", media)\n",
        "# print (\"O mediana da lista é \", mediana)"
      ],
      "execution_count": null,
      "outputs": [
        {
          "output_type": "stream",
          "text": [
            "O maior numero da lista é  80\n",
            "O soma dos elementos da lista é  299\n",
            "O  primeiro numero aparece 2 x\n",
            "O media da elementos da lista é  33.22222222222222\n"
          ],
          "name": "stdout"
        }
      ]
    },
    {
      "cell_type": "markdown",
      "metadata": {
        "id": "FY9Ib7aqjWPK",
        "colab_type": "text"
      },
      "source": [
        "#### 5 Escreva um programa que lê duas notas de 5 alunos e armazena tais notas em um dicionário, onde a chave é o nome do aluno.  Depois o programa deve retornar a média do aluno, dado seu nome."
      ]
    },
    {
      "cell_type": "code",
      "metadata": {
        "id": "Kx_ZQ_drjWPM",
        "colab_type": "code",
        "colab": {
          "base_uri": "https://localhost:8080/",
          "height": 425
        },
        "outputId": "9d4db386-fafd-483e-ee29-221ae8906250"
      },
      "source": [
        "#solução\n",
        "\n",
        "dic = {}\n",
        "i = 0\n",
        "nome = input(\"Insira o nome do aluno: \")\n",
        "while nome != \"\":\n",
        "    dic[nome] = [\n",
        "        float(input(\"Insira a primeira nota: \")),\n",
        "        float(input(\"Insira a segunda nota: \"))\n",
        "    ]\n",
        "    nome = input(\"Insira o nome do aluno: \")\n",
        "\n",
        "def media(nome):\n",
        "    return (dic[nome][0] + dic[nome][1]) / 2\n",
        "\n",
        "#DÊ ENTER PARA FINALIZAR O PROGRAMA E PEDIR PARA A MEDIA DO ALUNO\n",
        "\n",
        "media(input(\"Insira o nome do aluno o qual deseja ver a média: \"))"
      ],
      "execution_count": null,
      "outputs": [
        {
          "output_type": "stream",
          "text": [
            "Insira o nome do aluno: charles\n",
            "Insira a primeira nota: 10\n",
            "Insira a segunda nota: 2\n",
            "Insira o nome do aluno: joao\n",
            "Insira a primeira nota: 4\n",
            "Insira a segunda nota: 8\n",
            "Insira o nome do aluno: ana\n",
            "Insira a primeira nota: 8\n",
            "Insira a segunda nota: 7\n",
            "Insira o nome do aluno: luan\n",
            "Insira a primeira nota: 7\n",
            "Insira a segunda nota: 7\n",
            "Insira o nome do aluno: r\n",
            "Insira a primeira nota: 4\n",
            "Insira a segunda nota: 10\n",
            "Insira o nome do aluno: luis\n",
            "Insira a primeira nota: 10\n",
            "Insira a segunda nota: 8\n",
            "Insira o nome do aluno: a\n",
            "Insira a primeira nota: 8\n",
            "Insira a segunda nota: 10\n",
            "Insira o nome do aluno: \n",
            "Insira o nome do aluno o qual deseja ver a média: charles\n"
          ],
          "name": "stdout"
        },
        {
          "output_type": "execute_result",
          "data": {
            "text/plain": [
              "6.0"
            ]
          },
          "metadata": {
            "tags": []
          },
          "execution_count": 27
        }
      ]
    },
    {
      "cell_type": "markdown",
      "metadata": {
        "id": "NVFLe1_0jWPT",
        "colab_type": "text"
      },
      "source": [
        "#### 6 Escreva um programa para armazenar uma agenda de telefones em um dicionário. Cada pessoa pode ter um ou mais telefones e a chave do dicionário é o nome da pessoa. Seu programa deve ter as seguintes funcionalidades:\n",
        "- incluirNovoNome – essa função acrescenta um novo nome na agenda, com um ou mais telefones. Ela deve receber como argumentos o nome e os telefones.\n",
        "- incluirTelefone – essa função acrescenta um telefone em um nome existente na agenda. Caso o nome não exista na agenda, você̂ deve perguntar se a pessoa deseja inclui-lo. Caso a resposta seja afirmativa, use a função anterior para incluir o novo nome.\n",
        "- excluirTelefone – essa função exclui um telefone de uma pessoa que já está na agenda. Se a pessoa tiver apenas um telefone, ela deve ser excluída da agenda.\n",
        "- excluirNome – essa função exclui uma pessoa da agenda.\n",
        "- consultarTelefone – essa função retorna os telefones de uma pessoa na agenda.\n"
      ]
    },
    {
      "cell_type": "code",
      "metadata": {
        "id": "4rXPUGjTjWPV",
        "colab_type": "code",
        "colab": {
          "base_uri": "https://localhost:8080/",
          "height": 629
        },
        "outputId": "72999e18-6856-436e-d712-87a82c18a39d"
      },
      "source": [
        "#solução\n",
        "agenda = []\n",
        "\n",
        "def pede_nome():\n",
        "     return(input(\"Nome: \"))\n",
        "\n",
        "def pede_telefone():\n",
        "     return(input(\"Telefone: \"))\n",
        "     return(input(\"Telefone 2: \"))\n",
        "\n",
        "def mostra_dados(nome, telefone):\n",
        "     print(\"Nome: %s Telefone: %s\" % (nome, telefone))\n",
        "\n",
        "\n",
        "\n",
        "def pesquisa(nome):\n",
        "     mnome = nome.lower()\n",
        "     for p, e in enumerate(agenda):\n",
        "         if e[0].lower() == mnome:\n",
        "               return p\n",
        "     return None\n",
        "\n",
        "def novo():\n",
        "     global agenda\n",
        "     nome = pede_nome()\n",
        "     telefone = pede_telefone()\n",
        "     agenda.append([nome, telefone])\n",
        "\n",
        "def apaga():\n",
        "     global agenda\n",
        "     nome = pede_nome()\n",
        "     p = pesquisa(nome)\n",
        "     if p != None:\n",
        "         del agenda[p]\n",
        "     else:\n",
        "         print(\"Nome não encontrado.\")\n",
        "\n",
        "def altera():\n",
        "     p = pesquisa(pede_nome())\n",
        "     if p != None:\n",
        "         nome = agenda[p][0]\n",
        "         telefone = agenda[p][1]\n",
        "         print(\"Encontrado:\")\n",
        "         mostra_dados(nome, telefone)\n",
        "         nome = pede_nome()\n",
        "         telefone = pede_telefone()\n",
        "         agenda[p] = [nome, telefone]\n",
        "     else:\n",
        "         print(\"Nome não encontrado.\")\n",
        "\n",
        "def lista():\n",
        "     print(\"\\nAgenda\\n\\n------\")\n",
        "     for e in agenda:\n",
        "         mostra_dados(e[0], e[1])\n",
        "     print(\"------\\n\")\n",
        "\n",
        "\n",
        "\n",
        "def valida_faixa_inteiro(pergunta, inicio, fim):\n",
        "     while True:\n",
        "         try:\n",
        "               valor = int(input(pergunta))\n",
        "               if inicio <= valor <= fim:\n",
        "                   return(valor)\n",
        "         except ValueError:\n",
        "               print(\"Valor inválido, favor digitar entre %d e %d\" % (inicio, fim))\n",
        "\n",
        "def menu():\n",
        "     print(\"\"\"\n",
        "   1 - Novo\n",
        "   2 - Altera\n",
        "   3 - Apaga\n",
        "   4 - Lista\n",
        "\n",
        "   0 - Sai\n",
        "\"\"\")\n",
        "     return valida_faixa_inteiro(\"Escolha uma opção: \",0,4)\n",
        "\n",
        "while True:\n",
        "     opção = menu()\n",
        "     if opção == 0:\n",
        "         break\n",
        "     elif opção == 1:\n",
        "         novo()\n",
        "     elif opção == 2:\n",
        "         altera()\n",
        "     elif opção == 3:\n",
        "         apaga()\n",
        "     elif opção == 4:\n",
        "         lista()"
      ],
      "execution_count": null,
      "outputs": [
        {
          "output_type": "stream",
          "text": [
            "\n",
            "   1 - Novo\n",
            "   2 - Altera\n",
            "   3 - Apaga\n",
            "   4 - Lista\n",
            "\n",
            "   0 - Sai\n",
            "\n",
            "Escolha uma opção: 1\n",
            "Nome: charles\n",
            "Telefone: 654\n",
            "\n",
            "   1 - Novo\n",
            "   2 - Altera\n",
            "   3 - Apaga\n",
            "   4 - Lista\n",
            "\n",
            "   0 - Sai\n",
            "\n",
            "Escolha uma opção: 4\n",
            "\n",
            "Agenda\n",
            "\n",
            "------\n",
            "Nome: charles Telefone: 654\n",
            "------\n",
            "\n",
            "\n",
            "   1 - Novo\n",
            "   2 - Altera\n",
            "   3 - Apaga\n",
            "   4 - Lista\n",
            "\n",
            "   0 - Sai\n",
            "\n",
            "Escolha uma opção: 0\n"
          ],
          "name": "stdout"
        }
      ]
    },
    {
      "cell_type": "markdown",
      "metadata": {
        "id": "8QvzQMxCjWPf",
        "colab_type": "text"
      },
      "source": [
        "#### 7 Faça um dicionário que armazene os nomes dos estados da região sudeste, sua população, sua capital e seu PIB (procure na Wikipedia). Use a sigla do estado como chave. Depois imprima (com print) uma lista com a sigla e os demais dados ordenados por ordem alfabética de sigla."
      ]
    },
    {
      "cell_type": "code",
      "metadata": {
        "id": "f4OQzEsnjWPj",
        "colab_type": "code",
        "colab": {}
      },
      "source": [
        "#solução\n",
        "sudeste = {'Espirito Santo'}"
      ],
      "execution_count": null,
      "outputs": []
    },
    {
      "cell_type": "markdown",
      "metadata": {
        "id": "C3K4hQYcjWPq",
        "colab_type": "text"
      },
      "source": [
        "#### 8 Retorne um conjunto de elementos que estão em A ou B, mas não em ambos:\n",
        "- `A = {10, 20, 30, 40, 50}`\n",
        "- `B = {30, 40, 50, 60, 70}`"
      ]
    },
    {
      "cell_type": "code",
      "metadata": {
        "id": "h4XI5PPmjWPs",
        "colab_type": "code",
        "colab": {
          "base_uri": "https://localhost:8080/",
          "height": 34
        },
        "outputId": "b52d32dd-fe8e-419e-9b38-932897ada83b"
      },
      "source": [
        "#solução\n",
        "A = set({10, 20, 30, 40, 50})\n",
        "B = set({30, 40, 50, 60, 70})\n",
        "\n",
        "\n",
        "print(A.intersection(B))\n",
        "\n"
      ],
      "execution_count": null,
      "outputs": [
        {
          "output_type": "stream",
          "text": [
            "{40, 50, 30}\n"
          ],
          "name": "stdout"
        }
      ]
    },
    {
      "cell_type": "markdown",
      "metadata": {
        "id": "k6mphL_cjWPz",
        "colab_type": "text"
      },
      "source": [
        "#### 9 Considere a lista `[1, 2, 3, 4, 5, 6, 7, 8, 9, 10]`. Crie outra lista com a raiz quadrada de cada elemento da lista dada. Sugestão: use list comprehension."
      ]
    },
    {
      "cell_type": "code",
      "metadata": {
        "id": "5jIUH6NSjWP0",
        "colab_type": "code",
        "colab": {
          "base_uri": "https://localhost:8080/",
          "height": 34
        },
        "outputId": "4985c6c2-c095-4426-a7b1-2f3012f8490a"
      },
      "source": [
        "#solução\n",
        "lis = []\n",
        "\n",
        "for i in range(1,10):\n",
        "  lis.append(i**2)\n",
        "print (lis)\n",
        "\n",
        "\n"
      ],
      "execution_count": null,
      "outputs": [
        {
          "output_type": "stream",
          "text": [
            "[1, 4, 9, 16, 25, 36, 49, 64, 81]\n"
          ],
          "name": "stdout"
        }
      ]
    },
    {
      "cell_type": "markdown",
      "metadata": {
        "id": "jRwEBkjAjWP6",
        "colab_type": "text"
      },
      "source": [
        "#### 10 Considere a string `\"Mike; ;Emma;Kelly; ;Brad;Zed\"`. Imprima, com print, outra string com os mesmos nomes, em ordem alfabética decrescente, sem os nomes em branco e com os nomes separados por tab (`\\t`)."
      ]
    },
    {
      "cell_type": "code",
      "metadata": {
        "id": "CLrkBe3njWP8",
        "colab_type": "code",
        "colab": {
          "base_uri": "https://localhost:8080/",
          "height": 51
        },
        "outputId": "a1e9b3cf-d04d-4753-8f45-1163d21eb129"
      },
      "source": [
        "#solução\n",
        "nomes = [\"Mike\",\"Emma\", \"Kelly\", \"Brad\", \"Zed\"] \n",
        "nomes.sort()\n",
        "\n",
        "print (str(nomes[0]) + \"\\t\" + str(nomes[1]) + \"\\t\" + str(nomes[2]) + \"\\t\" + str(nomes[3])+ \"\\t\" + str(nomes[4]))\n",
        "\n",
        "nomes.reverse()\n",
        "\n",
        "print (str(nomes[0]) + \"\\t\" + str(nomes[1]) + \"\\t\" + str(nomes[2]) + \"\\t\" + str(nomes[3])+ \"\\t\" + str(nomes[4]))\n"
      ],
      "execution_count": null,
      "outputs": [
        {
          "output_type": "stream",
          "text": [
            "Brad\tEmma\tKelly\tMike\tZed\n",
            "Zed\tMike\tKelly\tEmma\tBrad\n"
          ],
          "name": "stdout"
        }
      ]
    },
    {
      "cell_type": "markdown",
      "metadata": {
        "id": "ShFeEw4jjWQE",
        "colab_type": "text"
      },
      "source": [
        "#### 11 Troque o valor `20` pelo valor `25` da tupla `(\"Laranja\", [10, 20, 30], {1:5, 3:15,'728':25})`. Depois troque o valor `[10, 25, 30]` pelo valor `'Laranja'`. Deixe o código que causa erro comentado."
      ]
    },
    {
      "cell_type": "code",
      "metadata": {
        "id": "uzmJH6vkjWQG",
        "colab_type": "code",
        "colab": {}
      },
      "source": [
        "#solução"
      ],
      "execution_count": null,
      "outputs": []
    },
    {
      "cell_type": "markdown",
      "metadata": {
        "id": "N59AYS6NjWQO",
        "colab_type": "text"
      },
      "source": [
        "#### 12 Leet é uma forma de se escrever o alfabeto latino usando outros símbolos em lugar das letras, como números por exemplo. A própria palavra leet admite muitas variações, como l33t ou 1337. O uso do leet reflete uma subcultura relacionada ao mundo dos jogos de computador e internet, sendo muito usada para confundir os iniciantes e afirmar-se como parte de um grupo. Pesquise sobre as principais formas de traduzir as letras. Depois, faça um programa que peça uma texto e transforme-o para a grafia leet speak.\n",
        "Desafio: não use loops nem desvios condicionais.\n"
      ]
    },
    {
      "cell_type": "code",
      "metadata": {
        "id": "YHkGbDZujWQR",
        "colab_type": "code",
        "colab": {
          "base_uri": "https://localhost:8080/",
          "height": 51
        },
        "outputId": "71629c0f-78f7-42be-fe44-c77fcfc88615"
      },
      "source": [
        "#solução\n",
        "leet = input('Digite uma frase aleatória:')\n",
        "\n",
        "leet = leet.replace('a','ä')\n",
        "leet = leet.replace('b','ß')\n",
        "leet = leet.replace('c','¢')\n",
        "leet = leet.replace('d','I>')\n",
        "leet = leet.replace('e','ë')\n",
        "leet = leet.replace('g','6')\n",
        "leet = leet.replace('h','#')\n",
        "leet = leet.replace('i','ï')\n",
        "leet = leet.replace('j','j')\n",
        "leet = leet.replace('l','£')\n",
        "leet = leet.replace('m','^^')\n",
        "leet = leet.replace('n','//')\n",
        "leet = leet.replace('o','ö')\n",
        "leet = leet.replace('p','p')\n",
        "leet = leet.replace('r','Я')\n",
        "leet = leet.replace('s','§')\n",
        "leet = leet.replace('t','7')\n",
        "leet = leet.replace('x','><')\n",
        "\n",
        "print(f'A frase traduzida para leet é: {leet}')"
      ],
      "execution_count": null,
      "outputs": [
        {
          "output_type": "stream",
          "text": [
            "Digite uma frase aleatória:charles\n",
            "A frase traduzida para leet é: ¢#äЯ£ë§\n"
          ],
          "name": "stdout"
        }
      ]
    },
    {
      "cell_type": "markdown",
      "metadata": {
        "id": "UN_X4dQPjWQY",
        "colab_type": "text"
      },
      "source": [
        "#### 13 Considere o dicionário abaixo. Crie outro dicionário a partir deste tomando o valor como chave e a chave como valor:\n",
        "`{'a':1, 'b':2, 'c':3, 'd':4, 'e':5, 'f':6, 'g':7, 'h':8, 'i':9, 'j':10}`"
      ]
    },
    {
      "cell_type": "code",
      "metadata": {
        "id": "Sh7YIfHjjWQa",
        "colab_type": "code",
        "colab": {}
      },
      "source": [
        "#solução\n"
      ],
      "execution_count": null,
      "outputs": []
    },
    {
      "cell_type": "markdown",
      "metadata": {
        "id": "Smse8QojjWQf",
        "colab_type": "text"
      },
      "source": [
        "##### 14 Uma pista de Kart permite 10 voltas para cada um de 6 corredores. Escreva um programa que leia todos os tempos em segundos e os guarde em um dicionário, onde a chave é o nome do corredor. Ao final diga de quem foi a melhor volta da prova e em que volta; e ainda a classificação final em ordem (1o o campeão). O campeão é o que tem a menor média de tempos."
      ]
    },
    {
      "cell_type": "code",
      "metadata": {
        "id": "qzWhkw5ajWQj",
        "colab_type": "code",
        "colab": {
          "base_uri": "https://localhost:8080/",
          "height": 136
        },
        "outputId": "5c6ed5aa-e0f5-4c75-8d9f-f1930a4d784c"
      },
      "source": [
        "import operator\n",
        "\n",
        "kart = {'Corredor1':[10, 58, 60, 56, 64, 80, 59, 58, 61, 54], \n",
        "         'Corredor2':[24, 62, 72, 50, 67, 51, 61, 63, 62, 59], \n",
        "         'Corredor3':[98, 58, 58, 48, 58, 52, 61, 65, 59, 60], \n",
        "         'Corredor4':[30, 55, 55, 70, 85, 79, 68, 65, 56, 60], \n",
        "         'Corredor5':[64, 51, 67, 50, 52, 58, 70, 75, 65, 56], \n",
        "         'Corredor6':[56, 61, 63, 65, 70, 54, 55, 60, 63, 62]}\n",
        "\n",
        "volta = 0\n",
        "medias = kart\n",
        "nome = \"\"\n",
        "melhorVolta = kart[\"Corredor1\"][0]\n",
        "for chave in kart:\n",
        "    soma = 0\n",
        "    for num in kart[chave]:\n",
        "        if num < melhorVolta:\n",
        "            melhorVolta = num\n",
        "            nome = chave\n",
        "        soma += num\n",
        "    medias[chave] = soma / 10\n",
        "    \n",
        "print(\"Melhor volta foi de\",melhorVolta,\"segundos, do corredor\",nome)\n",
        "sort = sorted(medias.items(), key=operator.itemgetter(1))\n",
        "for i in range(0, 6):\n",
        "    print(\"%s° lugar: %s - %s segs.\" % (i + 1, sort[i][0], sort[i][1]))"
      ],
      "execution_count": null,
      "outputs": [
        {
          "output_type": "stream",
          "text": [
            "Melhor volta foi de 10 segundos, do corredor \n",
            "1° lugar: Corredor1 - 56.0 segs.\n",
            "2° lugar: Corredor2 - 57.1 segs.\n",
            "3° lugar: Corredor5 - 60.8 segs.\n",
            "4° lugar: Corredor6 - 60.9 segs.\n",
            "5° lugar: Corredor3 - 61.7 segs.\n",
            "6° lugar: Corredor4 - 62.3 segs.\n"
          ],
          "name": "stdout"
        }
      ]
    },
    {
      "cell_type": "markdown",
      "metadata": {
        "id": "LyPCgHWTjWQt",
        "colab_type": "text"
      },
      "source": [
        "##### 15 *Blocos de ações.* Um bloco de ações é representado como um certo número de atributos, incluindo uma data de compra, um preço de compra, um número de ações e um símbolo de cotação. Podemos registrar essas informações em uma tupla para cada bloco de estoque e realizar várias operações simples nos blocos.\n",
        "\n",
        "Vamos sonhar que temos o seguinte portfólio.\n",
        "\n",
        "<table>\n",
        "    <tr><th>Data da Compra</th><th>Preço de Compra</th><th>Ações</th><th>Símbolo</th><th>Preço Atual</th></tr>\n",
        "<tr><td>26 Jan 2015</td><td> 43.50</td><td> 25</td><td> CAT</td><td> 92.45</td><tr>\n",
        "<tr><td>26 Jan 2015</td><td> 42.80</td><td> 50</td><td> DD</td><td> 51.19</td><tr>\n",
        "<tr><td>26 Jan 2015</td><td> 42.10</td><td> 75</td><td> EK</td><td> 34.87</td><tr>\n",
        "<tr><td>26 Jan 2015</td><td> 37.58</td><td> 100</td><td> GM</td><td> 37.58</td><tr>\n",
        "</table>\n",
        "Podemos representar cada bloco de ações como uma tupla de cinco com data de compra, preço de compra, ações, símbolo e preço atual.\n",
        "\n",
        "`portfolio = [\n",
        "(\"26-Jan-2015\", 43.50, 25, 'CAT', 92.45),\n",
        "(\"26-Jan-2015\", 42.80, 50, 'DD', 51.19),\n",
        "(\"26-Jan-2015\", 42.10, 75, 'EK', 34.87),\n",
        "(\"26-Jan-2015\", 37.58, 100, 'GM', 37.58)\n",
        "]`\n",
        "\n",
        "Desenvolva um programa que examine cada bloco, multiplique ações pelo preço de compra e determine o preço total de compra do portfólio. E, depois, examine cada bloco, multiplique ações pelo preço de compra e ações pelo preço atual para determinar o valor total ganho ou perdido."
      ]
    },
    {
      "cell_type": "code",
      "metadata": {
        "id": "iWSlHKXZjWQv",
        "colab_type": "code",
        "colab": {}
      },
      "source": [
        "#solução"
      ],
      "execution_count": null,
      "outputs": []
    }
  ]
}