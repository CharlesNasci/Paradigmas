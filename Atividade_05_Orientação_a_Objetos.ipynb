{
  "nbformat": 4,
  "nbformat_minor": 0,
  "metadata": {
    "colab": {
      "name": "Atividade 05 - Orientação a Objetos.ipynb",
      "provenance": [],
      "include_colab_link": true
    },
    "kernelspec": {
      "display_name": "Python 3",
      "language": "python",
      "name": "python3"
    },
    "language_info": {
      "codemirror_mode": {
        "name": "ipython",
        "version": 3
      },
      "file_extension": ".py",
      "mimetype": "text/x-python",
      "name": "python",
      "nbconvert_exporter": "python",
      "pygments_lexer": "ipython3",
      "version": "3.6.4"
    }
  },
  "cells": [
    {
      "cell_type": "markdown",
      "metadata": {
        "id": "view-in-github",
        "colab_type": "text"
      },
      "source": [
        "<a href=\"https://colab.research.google.com/github/CharlesNasci/Paradigmas/blob/master/Atividade_05_Orienta%C3%A7%C3%A3o_a_Objetos.ipynb\" target=\"_parent\"><img src=\"https://colab.research.google.com/assets/colab-badge.svg\" alt=\"Open In Colab\"/></a>"
      ]
    },
    {
      "cell_type": "markdown",
      "metadata": {
        "id": "UJIAHgr-fjU6",
        "colab_type": "text"
      },
      "source": [
        "![logo_usjt.png](https://www.usjt.br/app/themes/mobister/dist/images/sao-judas-universidade.png)"
      ]
    },
    {
      "cell_type": "markdown",
      "metadata": {
        "id": "kM-p4M3ifjU8",
        "colab_type": "text"
      },
      "source": [
        "# Paradigmas de Linguagens de Programação\n",
        "- **Professor**: Sergio Bonato <antonio.bonato@saojudas.br>"
      ]
    },
    {
      "cell_type": "markdown",
      "metadata": {
        "id": "k-pjBxUBfjU9",
        "colab_type": "text"
      },
      "source": [
        "# Atividade05 - Python - Orientação a Objetos\n",
        "\n",
        "**Conteúdo:**\n",
        "- classes\n",
        "- atributos\n",
        "- variáveis de class\n",
        "- métodos\n",
        "- encapsulamento\n",
        "- herança simples\n",
        "- herança múltipla\n",
        "- métodos especiais\n",
        "- tratamento de exceções"
      ]
    },
    {
      "cell_type": "markdown",
      "metadata": {
        "id": "uUILvl9PfjU-",
        "colab_type": "text"
      },
      "source": [
        "## Autor\n",
        "- **Aluno:**\n",
        "\n",
        "Obs: as tarefas devem ser individuais."
      ]
    },
    {
      "cell_type": "markdown",
      "metadata": {
        "id": "uuDIwEbOfjU_",
        "colab_type": "text"
      },
      "source": [
        "## Exercícios"
      ]
    },
    {
      "cell_type": "markdown",
      "metadata": {
        "id": "geEYlqRrfjVA",
        "colab_type": "text"
      },
      "source": [
        "**1** Crie a classe Produto com seu construtor, métodos de acesso e modificadores e os atributos privados nome, do tipo String, preço, do tipo double, quantidade, do tipo int. Crie uma funçãp teste_produto onde você vai ler valores de um produto, instanciar um produto e exibir o produto criado."
      ]
    },
    {
      "cell_type": "code",
      "metadata": {
        "id": "thMh3m6UfjVD",
        "colab_type": "code",
        "colab": {
          "base_uri": "https://localhost:8080/",
          "height": 68
        },
        "outputId": "659256d0-d7a3-448a-9775-c7f530190c19"
      },
      "source": [
        "#solução\n",
        "class Produto:\n",
        "\n",
        "  def __init__(self, nome,preco,quantidade):\n",
        "    self.__nome = nome\n",
        "    self.__preco = preco\n",
        "    self.__quantidade = quantidade\n",
        "\n",
        "\n",
        "  #getNome\n",
        "  @property\n",
        "  def nome(self):\n",
        "    return self.__nome\n",
        "\n",
        "  #setNome\n",
        "  @nome.setter\n",
        "  def nome(self, nome):\n",
        "    self.__nome = nome\n",
        "\n",
        "  #getPreco\n",
        "  @property\n",
        "  def preco(self):\n",
        "    return self.__preco\n",
        "\n",
        "  #setPreco\n",
        "  @preco.setter\n",
        "  def preco(self, preco):\n",
        "    self.__preco = preco\n",
        "\n",
        "  #getQuantidade\n",
        "  @property\n",
        "  def quantidade(self):\n",
        "    return self.__quantidade\n",
        "\n",
        "  #setQuantidade\n",
        "  @quantidade.setter\n",
        "  def quantidade(self, quantidade):\n",
        "    self.__quantidade = quantidade\n",
        "\n",
        "def teste_produto():\n",
        "  produto = Produto('Arrooz',9.90, 1);\n",
        "  print('Nome: ', produto.nome)\n",
        "  print('Preço: R$', produto.preco)\n",
        "  print('Quantidade: ', produto.quantidade)\n",
        "\n",
        "teste_produto()\n",
        "\n",
        "  \n"
      ],
      "execution_count": null,
      "outputs": [
        {
          "output_type": "stream",
          "text": [
            "Nome:  Arrooz\n",
            "Preço: R$ 9.9\n",
            "Quantidade:  1\n"
          ],
          "name": "stdout"
        }
      ]
    },
    {
      "cell_type": "markdown",
      "metadata": {
        "id": "bHNstJcLfjVK",
        "colab_type": "text"
      },
      "source": [
        "**2** Criar as classes CondicionadorDeAr, Termostato."
      ]
    },
    {
      "cell_type": "markdown",
      "metadata": {
        "id": "RmS3RPvvfjVK",
        "colab_type": "text"
      },
      "source": [
        "**a)** A classe CondicionadorDeAr tem um atributo termostato do tipo Termostato e um atributo boolean chamado ligado. O construtor de CondicionadorDeAr não recebe nenhum parâmetro, mas instancia um termostato e coloca ligado em false. Crie um método de acesso para ligado e outro para termostato. Não precisa fazer os métodos modificadores. Crie um método ligar, que muda ligado para true, e um desligar, que muda ligado para false. Crie um método aumentar_temperatura, que aumenta a temperatura do termostato em um grau cada vez que é chamado até o limite de 28 graus. Crie um método reduzir_temperatura que reduz a temperatura em um grau cada vez que é chamado até o limite de 15 graus. Crie um método imprimir_temperatura que imprime a temperatura atual. Não se esqueça de verificar se o condicionador está ligado antes de aumentar ou diminuir a temperatura ou imprimi-la. Use try-except para tratar erros."
      ]
    },
    {
      "cell_type": "code",
      "metadata": {
        "id": "tBoSTRuOfjVL",
        "colab_type": "code",
        "colab": {}
      },
      "source": [
        "#solução\n",
        "class CondicionadorDeAr():\n",
        "    def init(self):\n",
        "        self._termostato = Termostato()\n",
        "        self._ligado = False\n",
        "        pass\n",
        "\n",
        "\n",
        "    # getter method\n",
        "    def get_ligar(self):\n",
        "      return self._ligado\n",
        "\n",
        "    def get_termostato(self):\n",
        "      return self._termostato\n",
        "\n",
        "    def ligar(self):\n",
        "        self._ligado = True\n",
        "\n",
        "    def desligar(self):\n",
        "        self._ligado = False\n",
        "\n",
        "    def aumentar_temperatura(self):\n",
        "        try:\n",
        "            if(self._ligado):\n",
        "                if(self._termostato.temperatura < 28):\n",
        "                    \n",
        "                    self._termostato.temperatura = self._termostato.temperatura + 1\n",
        "                    \n",
        "                else:\n",
        "                    print('temperatura acima do permitido')\n",
        "            else:\n",
        "                print('Ar condicionado Desligado')\n",
        "        except:\n",
        "            print('Nao foi Possivel aumentar a temperatura')        \n",
        "\n",
        "    def reduzir_temperatura(self):\n",
        "        try:\n",
        "            if(self._ligado):\n",
        "                if(self._termostato.temperatura > 15):\n",
        "                    self._termostato.temperatura = self._termostato.temperatura - 1\n",
        "                else:\n",
        "                    print('temperatura abaixo do permitido')\n",
        "            else:\n",
        "                print('Ar condicionado Desligado')\n",
        "        except:\n",
        "            print('Nao foi possivel aumentar a temperatura')\n",
        "\n",
        "    def imprimir_temperatura(self):\n",
        "        print(self._termostato.temperatura)\n",
        "  \n",
        "\n",
        "  "
      ],
      "execution_count": null,
      "outputs": []
    },
    {
      "cell_type": "markdown",
      "metadata": {
        "id": "fvog5H3_fjVQ",
        "colab_type": "text"
      },
      "source": [
        "**b)** A classe Termostato tem um atributo temperatura. Seu construtor não recebe parâmetros, mas instancia a temperatura em 20. Crie um método de acesso o outro modificador. Estes métodos devem respeitar os limites estabelecidos no item anterior."
      ]
    },
    {
      "cell_type": "code",
      "metadata": {
        "id": "wwm-yBaGfjVR",
        "colab_type": "code",
        "colab": {}
      },
      "source": [
        "#solução\n",
        "class Termostato():\n",
        "    def _init_(self):\n",
        "        self.temperatura = 20\n",
        "        pass\n",
        "\n",
        "    def aumentar_temperatura_pelo_termostato(self):\n",
        "        if(self.temperatura < 28):\n",
        "            self.aumentar_temperatura()\n",
        "        else:\n",
        "            print('nao é possivel aumentar mais')\n",
        "\n",
        "    def reduzir_temperatura_pelo_termostato(self):\n",
        "        if(self.temperatura > 15):\n",
        "            self.reduzir_temperatura()\n",
        "        else:\n",
        "            print('nao é possivel diminuir mais')"
      ],
      "execution_count": null,
      "outputs": []
    },
    {
      "cell_type": "markdown",
      "metadata": {
        "id": "-dYjc5WAfjVV",
        "colab_type": "text"
      },
      "source": [
        "**c)** Crie a classe Usuario, com o método regular_temperatura. Neste método você deve instanciar um CondicionadorDeAr, aumentar a temperatura para 30 graus (receber mensagem de erro), reduzir a temperatura para 10 gruas (receber mensagem de erro). Aumentar a temperatura para 25 graus e imprimir a temperatura. Usar try-except"
      ]
    },
    {
      "cell_type": "code",
      "metadata": {
        "id": "RPSxTQEpfjVW",
        "colab_type": "code",
        "colab": {
          "base_uri": "https://localhost:8080/",
          "height": 391
        },
        "outputId": "59e18fde-3251-402d-d3fc-42d65ca22563"
      },
      "source": [
        "#solução\n",
        "class Usuario():\n",
        "    def __init__(self):\n",
        "        pass\n",
        "\n",
        "    def regular_temperatura(self):\n",
        "        arcond = CondicionadorDeAr()  \n",
        "        arcond.ligar()\n",
        "        for a in range(0, 6):\n",
        "            arcond.reduzir_temperatura()\n",
        "            arcond.imprimir_temperatura()\n",
        "        for a in range(0, 16):\n",
        "            arcond.aumentar_temperatura()\n",
        "            arcond.imprimir_temperatura()    \n",
        "\n",
        "\n",
        "    User =  Usuario()\n",
        "    User.regular_temperatura()"
      ],
      "execution_count": null,
      "outputs": [
        {
          "output_type": "stream",
          "text": [
            "Nao foi possivel aumentar a temperatura\n"
          ],
          "name": "stdout"
        },
        {
          "output_type": "error",
          "ename": "AttributeError",
          "evalue": "ignored",
          "traceback": [
            "\u001b[0;31m---------------------------------------------------------------------------\u001b[0m",
            "\u001b[0;31mAttributeError\u001b[0m                            Traceback (most recent call last)",
            "\u001b[0;32m<ipython-input-47-596d97943d81>\u001b[0m in \u001b[0;36m<module>\u001b[0;34m()\u001b[0m\n\u001b[0;32m----> 1\u001b[0;31m \u001b[0;32mclass\u001b[0m \u001b[0mUsuario\u001b[0m\u001b[0;34m(\u001b[0m\u001b[0;34m)\u001b[0m\u001b[0;34m:\u001b[0m\u001b[0;34m\u001b[0m\u001b[0;34m\u001b[0m\u001b[0m\n\u001b[0m\u001b[1;32m      2\u001b[0m     \u001b[0;32mdef\u001b[0m \u001b[0m__init__\u001b[0m\u001b[0;34m(\u001b[0m\u001b[0mself\u001b[0m\u001b[0;34m)\u001b[0m\u001b[0;34m:\u001b[0m\u001b[0;34m\u001b[0m\u001b[0;34m\u001b[0m\u001b[0m\n\u001b[1;32m      3\u001b[0m         \u001b[0;32mpass\u001b[0m\u001b[0;34m\u001b[0m\u001b[0;34m\u001b[0m\u001b[0m\n\u001b[1;32m      4\u001b[0m \u001b[0;34m\u001b[0m\u001b[0m\n\u001b[1;32m      5\u001b[0m     \u001b[0;32mdef\u001b[0m \u001b[0mregular_temperatura\u001b[0m\u001b[0;34m(\u001b[0m\u001b[0mself\u001b[0m\u001b[0;34m)\u001b[0m\u001b[0;34m:\u001b[0m\u001b[0;34m\u001b[0m\u001b[0;34m\u001b[0m\u001b[0m\n",
            "\u001b[0;32m<ipython-input-47-596d97943d81>\u001b[0m in \u001b[0;36mUsuario\u001b[0;34m()\u001b[0m\n\u001b[1;32m     15\u001b[0m \u001b[0;34m\u001b[0m\u001b[0m\n\u001b[1;32m     16\u001b[0m     \u001b[0mUser\u001b[0m \u001b[0;34m=\u001b[0m  \u001b[0mUsuario\u001b[0m\u001b[0;34m(\u001b[0m\u001b[0;34m)\u001b[0m\u001b[0;34m\u001b[0m\u001b[0;34m\u001b[0m\u001b[0m\n\u001b[0;32m---> 17\u001b[0;31m     \u001b[0mUser\u001b[0m\u001b[0;34m.\u001b[0m\u001b[0mregular_temperatura\u001b[0m\u001b[0;34m(\u001b[0m\u001b[0;34m)\u001b[0m\u001b[0;34m\u001b[0m\u001b[0;34m\u001b[0m\u001b[0m\n\u001b[0m",
            "\u001b[0;32m<ipython-input-43-60a905d70606>\u001b[0m in \u001b[0;36mregular_temperatura\u001b[0;34m(self)\u001b[0m\n\u001b[1;32m      8\u001b[0m         \u001b[0;32mfor\u001b[0m \u001b[0ma\u001b[0m \u001b[0;32min\u001b[0m \u001b[0mrange\u001b[0m\u001b[0;34m(\u001b[0m\u001b[0;36m0\u001b[0m\u001b[0;34m,\u001b[0m \u001b[0;36m6\u001b[0m\u001b[0;34m)\u001b[0m\u001b[0;34m:\u001b[0m\u001b[0;34m\u001b[0m\u001b[0;34m\u001b[0m\u001b[0m\n\u001b[1;32m      9\u001b[0m             \u001b[0marcond\u001b[0m\u001b[0;34m.\u001b[0m\u001b[0mreduzir_temperatura\u001b[0m\u001b[0;34m(\u001b[0m\u001b[0;34m)\u001b[0m\u001b[0;34m\u001b[0m\u001b[0;34m\u001b[0m\u001b[0m\n\u001b[0;32m---> 10\u001b[0;31m             \u001b[0marcond\u001b[0m\u001b[0;34m.\u001b[0m\u001b[0mimprimir_temperatura\u001b[0m\u001b[0;34m(\u001b[0m\u001b[0;34m)\u001b[0m\u001b[0;34m\u001b[0m\u001b[0;34m\u001b[0m\u001b[0m\n\u001b[0m\u001b[1;32m     11\u001b[0m         \u001b[0;32mfor\u001b[0m \u001b[0ma\u001b[0m \u001b[0;32min\u001b[0m \u001b[0mrange\u001b[0m\u001b[0;34m(\u001b[0m\u001b[0;36m0\u001b[0m\u001b[0;34m,\u001b[0m \u001b[0;36m16\u001b[0m\u001b[0;34m)\u001b[0m\u001b[0;34m:\u001b[0m\u001b[0;34m\u001b[0m\u001b[0;34m\u001b[0m\u001b[0m\n\u001b[1;32m     12\u001b[0m             \u001b[0marcond\u001b[0m\u001b[0;34m.\u001b[0m\u001b[0maumentar_temperatura\u001b[0m\u001b[0;34m(\u001b[0m\u001b[0;34m)\u001b[0m\u001b[0;34m\u001b[0m\u001b[0;34m\u001b[0m\u001b[0m\n",
            "\u001b[0;32m<ipython-input-46-89c4eec0f709>\u001b[0m in \u001b[0;36mimprimir_temperatura\u001b[0;34m(self)\u001b[0m\n\u001b[1;32m     46\u001b[0m \u001b[0;34m\u001b[0m\u001b[0m\n\u001b[1;32m     47\u001b[0m     \u001b[0;32mdef\u001b[0m \u001b[0mimprimir_temperatura\u001b[0m\u001b[0;34m(\u001b[0m\u001b[0mself\u001b[0m\u001b[0;34m)\u001b[0m\u001b[0;34m:\u001b[0m\u001b[0;34m\u001b[0m\u001b[0;34m\u001b[0m\u001b[0m\n\u001b[0;32m---> 48\u001b[0;31m         \u001b[0mprint\u001b[0m\u001b[0;34m(\u001b[0m\u001b[0mself\u001b[0m\u001b[0;34m.\u001b[0m\u001b[0m_termostato\u001b[0m\u001b[0;34m.\u001b[0m\u001b[0mtemperatura\u001b[0m\u001b[0;34m)\u001b[0m\u001b[0;34m\u001b[0m\u001b[0;34m\u001b[0m\u001b[0m\n\u001b[0m\u001b[1;32m     49\u001b[0m \u001b[0;34m\u001b[0m\u001b[0m\n\u001b[1;32m     50\u001b[0m \u001b[0;34m\u001b[0m\u001b[0m\n",
            "\u001b[0;31mAttributeError\u001b[0m: 'CondicionadorDeAr' object has no attribute '_termostato'"
          ]
        }
      ]
    },
    {
      "cell_type": "markdown",
      "metadata": {
        "id": "2ItY9aBYfjVb",
        "colab_type": "text"
      },
      "source": [
        "**3** Desenvolver a hierarquia de classes abaixo. Faça métodos `__str__` para todas elas."
      ]
    },
    {
      "cell_type": "markdown",
      "metadata": {
        "id": "CZBxogmnfjVc",
        "colab_type": "text"
      },
      "source": [
        "**a)** Escrever a classe Pagamento, cujos atributos únicos são nome_do_pagador (String), cpf (String) e valor_a_ser_pago (double). Escrever, nesta classe, métodos construtores, métodos de acesso e métodos modificadores para os atributos."
      ]
    },
    {
      "cell_type": "code",
      "metadata": {
        "id": "gQECtU98fjVc",
        "colab_type": "code",
        "colab": {}
      },
      "source": [
        "#solução\n",
        "class Pagamento:\n",
        "    def _init_(self, nome_do_pagador, cpf, valor_a_ser_pago):\n",
        "      self.__nome_do_pagador = nome_do_pagador\n",
        "      self.__cpf = cpf\n",
        "      self.__valor_a_ser_pago = valor_a_ser_pago\n",
        "    \n",
        "    @property\n",
        "    def nome_do_pagador(self):\n",
        "      return self.__nome_do_pagador\n",
        "      \n",
        "    @property\n",
        "    def cpf(self):\n",
        "      return self.__cpf\n",
        "\n",
        "    @property\n",
        "    def valor_a_ser_pago(self):\n",
        "      return self.__valor_a_ser_pago\n",
        "    \n",
        "    @nome_do_pagador.setter\n",
        "    def nome_do_pagador(self, nome_do_pagador):\n",
        "      self.__nome_do_pagador = nome_do_pagador\n",
        "\n",
        "    @cpf.setter\n",
        "    def cpf(self, cpf):\n",
        "      self.__cpf = cpf\n",
        "\n",
        "    @valor_a_ser_pago.setter\n",
        "    def valor_a_ser_pago(self, valor_a_ser_pago):\n",
        "      self.__valor_a_ser_pago = valor_a_ser_pago\n",
        "  \n",
        "    def teste_pagamento():\n",
        "      pagamento = pagamento(\"Charles\", \"000000000-14\", 100);\n",
        "      print('Nome do pagador: ',pagamento.nome_do_pagador)\n",
        "      print('CPF: ',pagamento.CPF)\n",
        "      print('valor a ser pago: ',pagamento.valor_a_ser_pago)\n",
        "      \n",
        "      teste_pagamento()\n",
        "\n",
        "    "
      ],
      "execution_count": null,
      "outputs": []
    },
    {
      "cell_type": "markdown",
      "metadata": {
        "id": "OlDkkQ_hfjVk",
        "colab_type": "text"
      },
      "source": [
        "**b)** Escrever a classe CartaoDeCredito, como extensão da classe Pagamento, com o atributo próprio numero_do_cartao (String). Escrever, nesta classe, métodos construtores, métodos de acesso e métodos modificadores para o atributo próprio."
      ]
    },
    {
      "cell_type": "code",
      "metadata": {
        "id": "b0hxwL7dfjVl",
        "colab_type": "code",
        "colab": {}
      },
      "source": [
        "#solução\n",
        "class CartaoDeCredito(Pagamento):\n",
        "  def _init_(self, nome_do_pagador, cpf, valor_a_ser_pago, numero_do_cartao):\n",
        "      Pagamento._init_(self,nome_do_pagador, cpf, valor_a_ser_pago)\n",
        "      self.__numero_do_cartao = numero_do_cartao\n",
        "\n",
        "  @property\n",
        "  def numero_do_cartao(self):\n",
        "    return self.__numero_do_cartao\n",
        "  @numero_do_cartao.setter\n",
        "  def numero_do_cartao(self, numero_do_cartao):\n",
        "    self.__numero_do_cartao = numero_do_cartao\n"
      ],
      "execution_count": null,
      "outputs": []
    },
    {
      "cell_type": "markdown",
      "metadata": {
        "id": "s420I9rJfjVp",
        "colab_type": "text"
      },
      "source": [
        "**c)** Escrever a classe Cheque, como extensão da classe Pagamento, com o atributo próprio numero_do_cheque (String). Escrever, nesta classe, métodos construtores, métodos de acesso e métodos modificadores para o atributo próprio."
      ]
    },
    {
      "cell_type": "code",
      "metadata": {
        "id": "aldGt2lafjVq",
        "colab_type": "code",
        "colab": {}
      },
      "source": [
        "#solução\n",
        "class Cheque(Pagamento):\n",
        "  def _init_(self, nome_do_pagador, cpf, valor_a_ser_pago, numero_do_cheque):\n",
        "    Pagamento._init_(self,nome_do_pagador, cpf, valor_a_ser_pago)\n",
        "    self.__numero_do_cheque = numero_do_cheque\n",
        "\n",
        "  @property\n",
        "  def numero_do_cheque(self):\n",
        "    return self.__numero_do_cheque\n",
        "  @numero_do_cheque.setter\n",
        "  def numero_do_cheque(self, numero_do_cheque):\n",
        "    self.__numero_do_cheque = numero_do_cheque"
      ],
      "execution_count": null,
      "outputs": []
    },
    {
      "cell_type": "markdown",
      "metadata": {
        "id": "XxQi59yWfjVv",
        "colab_type": "text"
      },
      "source": [
        "**d)** Escrever a classe Boleto, como extensão da classe Pagamento, com os atributos próprio numero_do_boleto (String), dia (int), mes (int) e ano (int) de vencimento. Escrever, nesta classe, métodos construtores, métodos de acesso e métodos modificadores para o atributo próprio."
      ]
    },
    {
      "cell_type": "code",
      "metadata": {
        "id": "ERtoSj6AfjVw",
        "colab_type": "code",
        "colab": {}
      },
      "source": [
        "#solução\n",
        "class Boleto(Pagamento):\n",
        "  def _init_(self, nome_do_pagador, cpf, valor_a_ser_pago, numero_do_boleto, dia, mes, ano):\n",
        "    Pagamento._init_(self,nome_do_pagador, cpf, valor_a_ser_pago)\n",
        "\n",
        "    self.__numero_do_boleto = numero_do_boleto\n",
        "    self.__dia = dia\n",
        "    self.__mes = mes\n",
        "    self.__ano = ano\n",
        "\n",
        "  @property\n",
        "  def numero_do_boleto(self):\n",
        "    return self.__numero_do_boleto\n",
        "\n",
        "  @property\n",
        "  def dia(self):\n",
        "    return self.__dia\n",
        "\n",
        "  @property\n",
        "  def mes(self):\n",
        "    return self.__mes\n",
        "\n",
        "  @property\n",
        "  def ano(self):\n",
        "    return self.__ano\n",
        "\n",
        "  @numero_do_boleto.setter\n",
        "  def numero_do_boleto(self, numero_do_boleto):\n",
        "    self.__numero_do_boleto = numero_do_boleto\n",
        "\n",
        "  @dia.setter\n",
        "  def dia(self, dia):\n",
        "    self.__dia = dia\n",
        "\n",
        "  @mes.setter\n",
        "  def mes(self, mes):\n",
        "    self.__mes = mes\n",
        "    \n",
        "  @ano.setter\n",
        "  def ano(self, ano):\n",
        "    self.__ano = ano"
      ],
      "execution_count": null,
      "outputs": []
    },
    {
      "cell_type": "markdown",
      "metadata": {
        "id": "hJrHJA67fjV3",
        "colab_type": "text"
      },
      "source": [
        "**e)** Escrever a função teste_pagamentos que instancie cada um dos 3 tipos de pagamento e teste cada um deles."
      ]
    },
    {
      "cell_type": "code",
      "metadata": {
        "id": "w10aJUPCfjV5",
        "colab_type": "code",
        "colab": {}
      },
      "source": [
        "#solução\n",
        "def teste_pagamento():\n",
        "  c = CartaoDeCredito(\"Caetano\", 43123462823, 15000.00, 224466584)\n",
        "  b = Boleto(\"Asaw\", 43123462823, 15000.00, 224466584, 12, 20 ,2020)\n",
        "  d = Cheque(\"Andre\", 466544664, 25116.00, 256)\n",
        "  print('==TESTE CARTAO DE CREDITO==')\n",
        "  print('Nome', c.nome_do_pagador)\n",
        "  print('CPF', c.cpf)\n",
        "  print('Numero do Cartao', c.numero_do_cartao)\n",
        "  print('==TESTE DO BOLETO==')\n",
        "  print('Nome', b.nome_do_pagador)\n",
        "  print('CPF', b.cpf)\n",
        "  print('Numero do Boleto', b.numero_do_boleto)\n",
        "  print('Dia', b.dia,'/',b.mes,'/',b.ano)\n",
        "  print('==TESTE DO CHEQUE==')\n",
        "  print('Nome', d.nome_do_pagador)\n",
        "  print('CPF', d.cpf)\n",
        "  print('Numero do cheque', d.numero_do_cheque)\n",
        "\n",
        "\n",
        "  teste_pagamento()"
      ],
      "execution_count": null,
      "outputs": []
    },
    {
      "cell_type": "markdown",
      "metadata": {
        "id": "kZvyddcJfjV_",
        "colab_type": "text"
      },
      "source": [
        "**4** Ponto, Linha e Reta: \n",
        "- Crie a classe Ponto. Ela possui um atributo, uma tupla de inteiros x e y, que denotam um ponto no plano cartesiano.\n",
        "- Crie  classe Linha que tem dois atributos, coordenada1 e coordenada2. Cada coordenada é um ponto do segmento de reta. Faça métodos que calculem o comprimento do segmento de reta e seu coeficiente angular.\n",
        "- Cria a classe Reta, subclasse de Linha. Esta classe possui dois métodos: um que retorna um Ponto dada uma coordenada x. E outro que tamém retorna um Ponto dada uma coordenada y. Para implementar estes dois métodos é necessário criar a equação da reta. Veja as fórmulas abaixo.\n",
        "\n",
        "![grafico](https://www.somatematica.com.br/emedio/retas/Image83.gif)\n",
        "\n",
        "Cálculo do comprimento do segmento de reta: $d = \\sqrt{({x}_B-{x}_A)^2+({y}_B-{y}_A)^2}$\n",
        "\n",
        "Cálculo do coeficiente angular: $m = \\frac{{x}_B-{x}_A}{{y}_B-{y}_A}$\n",
        "\n",
        "Equação da reta: dado um ponto $({x}_0,{y}_0)$ qualquer pertencente à reta, sua equação, usando o coeficiente angular, é: $y-{y}_0=m(x-{x}_0)$ \n"
      ]
    },
    {
      "cell_type": "code",
      "metadata": {
        "id": "x_4eUJrsfjWA",
        "colab_type": "code",
        "colab": {
          "base_uri": "https://localhost:8080/",
          "height": 231
        },
        "outputId": "fd15bc5a-8dd4-494e-c1cf-28debfaa2668"
      },
      "source": [
        "#solução\n"
      ],
      "execution_count": null,
      "outputs": [
        {
          "output_type": "error",
          "ename": "TypeError",
          "evalue": "ignored",
          "traceback": [
            "\u001b[0;31m---------------------------------------------------------------------------\u001b[0m",
            "\u001b[0;31mTypeError\u001b[0m                                 Traceback (most recent call last)",
            "\u001b[0;32m<ipython-input-5-4c9d902fb75a>\u001b[0m in \u001b[0;36m<module>\u001b[0;34m()\u001b[0m\n\u001b[1;32m     11\u001b[0m \u001b[0;34m\u001b[0m\u001b[0m\n\u001b[1;32m     12\u001b[0m \u001b[0;34m\u001b[0m\u001b[0m\n\u001b[0;32m---> 13\u001b[0;31m \u001b[0mlinha\u001b[0m \u001b[0;34m=\u001b[0m \u001b[0mLinha\u001b[0m\u001b[0;34m(\u001b[0m\u001b[0;34m(\u001b[0m\u001b[0;36m9\u001b[0m\u001b[0;34m,\u001b[0m \u001b[0;36m2\u001b[0m\u001b[0;34m)\u001b[0m\u001b[0;34m,\u001b[0m \u001b[0;34m(\u001b[0m\u001b[0;36m4\u001b[0m\u001b[0;34m,\u001b[0m \u001b[0;36m9\u001b[0m\u001b[0;34m)\u001b[0m\u001b[0;34m)\u001b[0m\u001b[0;34m\u001b[0m\u001b[0;34m\u001b[0m\u001b[0m\n\u001b[0m\u001b[1;32m     14\u001b[0m \u001b[0;34m\u001b[0m\u001b[0m\n\u001b[1;32m     15\u001b[0m \u001b[0mprint\u001b[0m\u001b[0;34m(\u001b[0m\u001b[0;34m'Comprimento %.2f'\u001b[0m \u001b[0;34m%\u001b[0m \u001b[0mlinha\u001b[0m\u001b[0;34m.\u001b[0m\u001b[0mcalcula_comprimento\u001b[0m\u001b[0;34m(\u001b[0m\u001b[0;34m)\u001b[0m\u001b[0;34m)\u001b[0m\u001b[0;34m\u001b[0m\u001b[0;34m\u001b[0m\u001b[0m\n",
            "\u001b[0;31mTypeError\u001b[0m: object() takes no parameters"
          ]
        }
      ]
    },
    {
      "cell_type": "markdown",
      "metadata": {
        "id": "QqKWqkxPfjWD",
        "colab_type": "text"
      },
      "source": [
        "**5** Crie a seguinte hierarquia de classes de figuras geométricas. Veja na figura as fórmulas:\n",
        "- A classe Figura deve ter o método sem implementação area.\n",
        "- A classe Circulo é subclasse de Figura.\n",
        "- A classe Poligono é subclasse de Figura e deve ter os atributos base e altura.\n",
        "- As classes Triangulo, Losango, Retangulo e Quadrado são subclasses de Poligono. Tente criar mais uma generalização aqui olhando as fórmulas da área.\n",
        "- Os polígonos Retangulo e Quadrado devem herdar também a classe Diagonal, que deve ter um método que calcula a diagonal.\n",
        "- Crie uma classe Geometria com uma lista de Figuras com pelo menos uma figura de cada e imprima suas áreas e diagonais.\n",
        "\n",
        "![areas](https://i0.wp.com/geekiegames.geekie.com.br/blog/wp-content/uploads/2016/10/formulas-poligonos-e1477663474823.png?w=498&ssl=1)\n",
        "\n",
        "![diagonal](https://www.wikihow.com/images_en/thumb/7/71/Find-the-Measurement-of-the-Diagonal-Inside-a-Rectangle-Step-1-Version-3.jpg/v4-728px-Find-the-Measurement-of-the-Diagonal-Inside-a-Rectangle-Step-1-Version-3.jpg)"
      ]
    },
    {
      "cell_type": "code",
      "metadata": {
        "id": "taN3dBeefjWE",
        "colab_type": "code",
        "colab": {
          "base_uri": "https://localhost:8080/",
          "height": 357
        },
        "outputId": "964afb7f-3308-492f-a033-27c97fab37d0"
      },
      "source": [
        "from abc import ABC, abstractmethod\n",
        "import math\n",
        "class Figura(ABC):\n",
        "    \n",
        "    def __init__(self):\n",
        "        super().__init__()\n",
        "    \n",
        "    @abstractmethod\n",
        "    def area(self):\n",
        "        pass\n",
        "    \n",
        "    @abstractmethod\n",
        "    def perimetro(self):\n",
        "        pass\n",
        "    \n",
        "class Circulo(Figura):\n",
        "    \n",
        "    def __init__(self, raio):\n",
        "        self.raio = raio\n",
        "        Figura.__init__(self)\n",
        "        \n",
        "    def area(self):\n",
        "        return math.pi * (self.raio**2)\n",
        "    \n",
        "    def perimetro(self):\n",
        "        return 2 * math.pi * self.raio\n",
        "        \n",
        "class Poligono(Figura, ABC):\n",
        "    \n",
        "    def __init__(self, base, altura):\n",
        "        self.base = base\n",
        "        self.altura = altura\n",
        "        Figura.__init__(self)\n",
        "        \n",
        "class Diagonal(ABC):\n",
        "    \n",
        "    def __init__(self):\n",
        "        super().__init__()\n",
        "        \n",
        "    def diagonal(self):\n",
        "        return math.sqrt((self.base**2) + (self.altura**2))\n",
        "        \n",
        "class Triangulo(Poligono):\n",
        "    \n",
        "    def __init__(self, base, altura):\n",
        "        super().__init__(base, altura)\n",
        "        \n",
        "    def area(self):\n",
        "        return (self.base * self.altura) / 2\n",
        "    \n",
        "    def perimetro(self):\n",
        "        pass\n",
        "        \n",
        "class Losango(Poligono, Diagonal):\n",
        "    \n",
        "    def __init__(self, base, altura):\n",
        "        Poligono.__init__(self, base, altura)\n",
        "        Diagonal.__init__(self)\n",
        "        \n",
        "    def area(self):\n",
        "        return (self.base * self.altura) / 2\n",
        "    \n",
        "    def perimetro(self):\n",
        "        return self.base*2 + self.altura*2\n",
        "        \n",
        "class Retangulo(Poligono, Diagonal):\n",
        "    \n",
        "    def __init__(self, base, altura):\n",
        "        Poligono.__init__(self, base, altura)\n",
        "        Diagonal.__init__(self)\n",
        "        \n",
        "    def area(self):\n",
        "        return self.base * self.altura\n",
        "                         \n",
        "    def diagonal(self):\n",
        "        return math.sqrt((self.base**2) + (self.altura**2))\n",
        "    \n",
        "    def perimetro(self):\n",
        "        return self.base*2 + self.altura*2\n",
        "        \n",
        "class Quadrado(Poligono):\n",
        "    \n",
        "    def __init__(self, base, altura):\n",
        "        super().__init__(base, altura)\n",
        "        \n",
        "    def area(self):\n",
        "        return self.base * self.altura\n",
        "    \n",
        "    def perimetro(self):\n",
        "        return self.base*2 + self.altura*2\n",
        "    \n",
        "class Geometria:\n",
        "    \n",
        "    def __init__(self):\n",
        "        self.figuras = [\n",
        "            Circulo(8),\n",
        "            Triangulo(3, 7),\n",
        "            Losango(5, 9),\n",
        "            Retangulo(17, 3),\n",
        "            Quadrado(3, 8)\n",
        "        ]\n",
        "        \n",
        "geometria = Geometria()\n",
        "for figura in geometria.figuras:\n",
        "    print(type(figura))\n",
        "    print('Área: %.2f' % figura.area())\n",
        "    print('Perímetro' + str(figura.perimetro()) + \"\\n\")"
      ],
      "execution_count": null,
      "outputs": [
        {
          "output_type": "stream",
          "text": [
            "<class '__main__.Circulo'>\n",
            "Área: 201.06\n",
            "Perímetro50.26548245743669\n",
            "\n",
            "<class '__main__.Triangulo'>\n",
            "Área: 10.50\n",
            "PerímetroNone\n",
            "\n",
            "<class '__main__.Losango'>\n",
            "Área: 22.50\n",
            "Perímetro28\n",
            "\n",
            "<class '__main__.Retangulo'>\n",
            "Área: 51.00\n",
            "Perímetro40\n",
            "\n",
            "<class '__main__.Quadrado'>\n",
            "Área: 24.00\n",
            "Perímetro22\n",
            "\n"
          ],
          "name": "stdout"
        }
      ]
    },
    {
      "cell_type": "code",
      "metadata": {
        "id": "qUhouW7CfjWL",
        "colab_type": "code",
        "colab": {}
      },
      "source": [
        ""
      ],
      "execution_count": null,
      "outputs": []
    }
  ]
}