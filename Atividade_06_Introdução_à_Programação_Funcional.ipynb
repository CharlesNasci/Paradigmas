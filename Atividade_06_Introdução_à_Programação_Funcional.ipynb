{
  "nbformat": 4,
  "nbformat_minor": 0,
  "metadata": {
    "kernelspec": {
      "display_name": "Python 3",
      "language": "python",
      "name": "python3"
    },
    "language_info": {
      "codemirror_mode": {
        "name": "ipython",
        "version": 3
      },
      "file_extension": ".py",
      "mimetype": "text/x-python",
      "name": "python",
      "nbconvert_exporter": "python",
      "pygments_lexer": "ipython3",
      "version": "3.6.4"
    },
    "colab": {
      "name": "Atividade 06 - Introdução à Programação Funcional.ipynb",
      "provenance": [],
      "include_colab_link": true
    }
  },
  "cells": [
    {
      "cell_type": "markdown",
      "metadata": {
        "id": "view-in-github",
        "colab_type": "text"
      },
      "source": [
        "<a href=\"https://colab.research.google.com/github/CharlesNasci/Paradigmas/blob/master/Atividade_06_Introdu%C3%A7%C3%A3o_%C3%A0_Programa%C3%A7%C3%A3o_Funcional.ipynb\" target=\"_parent\"><img src=\"https://colab.research.google.com/assets/colab-badge.svg\" alt=\"Open In Colab\"/></a>"
      ]
    },
    {
      "cell_type": "markdown",
      "metadata": {
        "id": "XJXtOpK2JxMZ",
        "colab_type": "text"
      },
      "source": [
        "![logo_usjt.png](https://www.usjt.br/app/themes/mobister/dist/images/sao-judas-universidade.png)"
      ]
    },
    {
      "cell_type": "markdown",
      "metadata": {
        "id": "fKfc3kD8JxMc",
        "colab_type": "text"
      },
      "source": [
        "# Paradigmas de Linguagens de Programação\n",
        "- **Professor**: Sergio Bonato <antonio.bonato@saojudas.br>"
      ]
    },
    {
      "cell_type": "markdown",
      "metadata": {
        "id": "5jJ7ivpfJxMe",
        "colab_type": "text"
      },
      "source": [
        "# Atividade06 - Python - Introdução à Programação Funcional\n",
        "**Conteúdo:**\n",
        "- comparação entre os paradigmas procedural e funcional\n",
        "- vantagens e desvantagens da programação funcional\n",
        "- comparação entre o paradigma orientado a objetos e o paradigma funcional"
      ]
    },
    {
      "cell_type": "markdown",
      "metadata": {
        "id": "WGvCkwl6JxMg",
        "colab_type": "text"
      },
      "source": [
        "## Autor\n",
        "- **Aluno:**\n",
        "\n",
        "Obs: as tarefas devem ser individuais."
      ]
    },
    {
      "cell_type": "markdown",
      "metadata": {
        "id": "GHPuUJRIJxMi",
        "colab_type": "text"
      },
      "source": [
        "### Crie funções recursivas para resolver os problemas abaixo. Faça testes unitários usando asserts."
      ]
    },
    {
      "cell_type": "markdown",
      "metadata": {
        "id": "qeV6bgdnJxMj",
        "colab_type": "text"
      },
      "source": [
        "**1** Defina a função soma_nat que recebe como argumento um número natural  n\n",
        "  e devolve a soma de todos os números naturais até  n.\n",
        "```\n",
        "Ex: soma_nat(5) = 15\n",
        "```"
      ]
    },
    {
      "cell_type": "code",
      "metadata": {
        "id": "zmjpolQZJxMk",
        "colab_type": "code",
        "colab": {
          "base_uri": "https://localhost:8080/",
          "height": 34
        },
        "outputId": "c158970b-00a5-424a-a514-c54de5fe4122"
      },
      "source": [
        "#solução\n",
        "\n",
        "\n",
        "def soma_nat(n):  \n",
        "    return n + soma_nat(n-1) if n > 1 else 1\n",
        "    assert(soma_nat(5) == 15)\n",
        " \n",
        "\n",
        "print(soma_nat(2))\n",
        "\n",
        "\n",
        "\n",
        "\n"
      ],
      "execution_count": null,
      "outputs": [
        {
          "output_type": "stream",
          "text": [
            "3\n"
          ],
          "name": "stdout"
        }
      ]
    },
    {
      "cell_type": "markdown",
      "metadata": {
        "id": "qBaVq_1yJxMt",
        "colab_type": "text"
      },
      "source": [
        "2 Defina a função div que recebe como argumentos dois números naturais  m\n",
        "  e  n  e devolve o resultado da divisão inteira de  m  por  n. Neste exercício você não pode recorrer às operações aritméticas de multiplicação, divisão e resto da divisão inteira.\n",
        "```\n",
        "Ex: div(7,2) = \n",
        "```"
      ]
    },
    {
      "cell_type": "code",
      "metadata": {
        "id": "TLU-OgAWJxM1",
        "colab_type": "code",
        "colab": {
          "base_uri": "https://localhost:8080/",
          "height": 34
        },
        "outputId": "7ffe4f35-6464-425d-8c86-cebf82aafa7d"
      },
      "source": [
        "#solução\n",
        "def div(m,n):\n",
        "  return 1 + div(m - n, n) if m >= n else 0\n",
        "  assert(div(7,2) == 3)\n",
        "\n",
        "\n",
        "print(div(9,2))\n",
        "\n"
      ],
      "execution_count": null,
      "outputs": [
        {
          "output_type": "stream",
          "text": [
            "4\n"
          ],
          "name": "stdout"
        }
      ]
    },
    {
      "cell_type": "markdown",
      "metadata": {
        "id": "vmBppfWHJxM5",
        "colab_type": "text"
      },
      "source": [
        "**3** Defina a função prim_alg que recebe como argumento um número natural e devolve o primeiro algarismo (o mais significativo) na representação decimal de  n.\n",
        "```\n",
        "Ex: prim_alg(5649) = 5\n",
        "Ex: prim_alg(7) = 7\n",
        "```"
      ]
    },
    {
      "cell_type": "code",
      "metadata": {
        "id": "pCD2bidpJxM6",
        "colab_type": "code",
        "colab": {
          "base_uri": "https://localhost:8080/",
          "height": 34
        },
        "outputId": "aa640e60-7afe-42d3-9e49-76bdc6bbe8e7"
      },
      "source": [
        "#solução\n",
        "def prim_alg(n):\n",
        "  return int(n) if n < 10 else prim_alg(n/10)\n",
        "\n",
        "  assert(prim_alg(5649) == 5)\n",
        "\n",
        "print(prim_alg(3154654))\n",
        "\n"
      ],
      "execution_count": null,
      "outputs": [
        {
          "output_type": "stream",
          "text": [
            "3\n"
          ],
          "name": "stdout"
        }
      ]
    },
    {
      "cell_type": "markdown",
      "metadata": {
        "id": "LVz0E1DmJxNA",
        "colab_type": "text"
      },
      "source": [
        "**4** Defina a função prod_lista que recebe como argumento uma lista de inteiros e devolve o produto dos seus elementos.\n",
        "```\n",
        "Ex: prod_lista([1,2,3,4,5,6]) = 720\n",
        "```"
      ]
    },
    {
      "cell_type": "code",
      "metadata": {
        "id": "kbQvrgjkJxNG",
        "colab_type": "code",
        "colab": {
          "base_uri": "https://localhost:8080/",
          "height": 34
        },
        "outputId": "491d092e-b60f-4127-f82d-e493627303d0"
      },
      "source": [
        "#solução\n",
        "def prod_lista(lista):\n",
        "    return lista[len(lista) - 1] * prod_lista(lista[:-1]) if len(lista) > 0 else 1\n",
        "\n",
        "assert(prod_lista([1,2,3,4,5,6]) == 720)\n",
        "assert(prod_lista([3,6,9]) == 162)\n",
        "\n",
        "print(prod_lista([1,2,3]))\n",
        "\n"
      ],
      "execution_count": null,
      "outputs": [
        {
          "output_type": "stream",
          "text": [
            "6\n"
          ],
          "name": "stdout"
        }
      ]
    },
    {
      "cell_type": "markdown",
      "metadata": {
        "id": "AjFxW0lOJxNN",
        "colab_type": "text"
      },
      "source": [
        "**5** Defina a função contem_parQ que recebe como argumento uma lista de números inteiros  w e devolve True se w contém um número par e False em caso contrário.\n",
        "```\n",
        "Ex: contem_parQ([2,3,1,2,3,4]) = True\n",
        "Ex: contem_parQ([1,3,5,7]) = False\n",
        "```"
      ]
    },
    {
      "cell_type": "code",
      "metadata": {
        "id": "qHaAEB7AJxNO",
        "colab_type": "code",
        "colab": {
          "base_uri": "https://localhost:8080/",
          "height": 51
        },
        "outputId": "8cac8fd7-463f-40e9-d7bf-1f59a87437e9"
      },
      "source": [
        "#solução\n",
        "def contem_parQ(w):\n",
        "    return False if len(w) == 0 or (w[len(w) - 1] % 2 != 0 and not contem_parQ(w[:-1])) else True\n",
        "\n",
        "assert(contem_parQ([2,3,1,2,3,4]) == True)\n",
        "assert(contem_parQ([1,3,5,7]) == False)\n",
        "\n",
        "print(contem_parQ([2,3,1,2,3,4]))\n",
        "print(contem_parQ([1,3,5,7]))\n",
        "\n"
      ],
      "execution_count": null,
      "outputs": [
        {
          "output_type": "stream",
          "text": [
            "True\n",
            "False\n"
          ],
          "name": "stdout"
        }
      ]
    },
    {
      "cell_type": "markdown",
      "metadata": {
        "id": "f3dsdZHKJxNY",
        "colab_type": "text"
      },
      "source": [
        "6 Defina a função todos_imparesQ que recebe como argumento uma lista de números inteiros w e devolve True se  w contém apenas números ímpares e False em caso contrário.\n",
        "```\n",
        "Ex: todos_imparesQ([1,3,5,7]) = True\n",
        "Ex: todos_imparesQ([]) = True\n",
        "Ex: todos_imparesQ([1,2,3,4,5]) = False\n",
        "```"
      ]
    },
    {
      "cell_type": "code",
      "metadata": {
        "id": "vPoICZWtJxNZ",
        "colab_type": "code",
        "colab": {
          "base_uri": "https://localhost:8080/",
          "height": 51
        },
        "outputId": "447cc1d1-6f6b-4173-8a28-0dd606f07309"
      },
      "source": [
        "#solução\n",
        "def todos_imparesQ(w):\n",
        "    return True if len(w) == 0 or (w[len(w) - 1] % 2 != 0 and todos_imparesQ(w[:-1])) else False\n",
        "\n",
        "assert(todos_imparesQ([1,3,5,7]) == True)\n",
        "assert(todos_imparesQ([]) == True)\n",
        "assert(todos_imparesQ([1,2,3,4,5]) == False)\n",
        "\n",
        "print(todos_imparesQ([1,3,5,7]))\n",
        "print(todos_imparesQ([]))\n",
        "\n"
      ],
      "execution_count": null,
      "outputs": [
        {
          "output_type": "stream",
          "text": [
            "True\n",
            "True\n"
          ],
          "name": "stdout"
        }
      ]
    },
    {
      "cell_type": "markdown",
      "metadata": {
        "id": "k_4Ha9LVJxNe",
        "colab_type": "text"
      },
      "source": [
        "**7** Defina a função pertenceQ que recebe como argumentos uma lista de números inteiros  w  e um número inteiro  n  e devolve True se  n  ocorre em  w  e False em caso contrário.\n",
        "```\n",
        "Ex: pertenceQ([1,2,3],1) = True\n",
        "Ex: pertenceQ([1,2,3],2) = True\n",
        "Ex: pertenceQ([1,2,3],3) = True\n",
        "Ex: pertenceQ([1,2,3],4) = False\n",
        "```"
      ]
    },
    {
      "cell_type": "code",
      "metadata": {
        "id": "jkNUhntVJxNg",
        "colab_type": "code",
        "colab": {
          "base_uri": "https://localhost:8080/",
          "height": 102
        },
        "outputId": "406bf315-7055-4de2-8637-f3f208c963ba"
      },
      "source": [
        "#solução\n",
        "def pertenceQ(w, n):\n",
        "    return not(len(w) == 0 or (w.pop() != n and not pertenceQ(w, n)))\n",
        "\n",
        "assert(pertenceQ([1,2,3],1) == True)\n",
        "assert(pertenceQ([1,2,3],2) == True)\n",
        "assert(pertenceQ([1,2,3],3) == True)\n",
        "assert(pertenceQ([1,2,3],4) == False)\n",
        "\n",
        "print('pertenceQ([1,2,3],1) =',pertenceQ([1,2,3],1))\n",
        "print('pertenceQ([1,2,3],2) =',pertenceQ([1,2,3],2))\n",
        "print('pertenceQ([1,2,3],3) =',pertenceQ([1,2,3],3))\n",
        "print('pertenceQ([1,2,3],4) =',pertenceQ([1,2,3],4))\n",
        "print('pertenceQ([12,13,14],0) =',pertenceQ([12,13,14],0))\n",
        "\n",
        "\n",
        "\n"
      ],
      "execution_count": null,
      "outputs": [
        {
          "output_type": "stream",
          "text": [
            "pertenceQ([1,2,3],1) = True\n",
            "pertenceQ([1,2,3],2) = True\n",
            "pertenceQ([1,2,3],3) = True\n",
            "pertenceQ([1,2,3],4) = False\n",
            "pertenceQ([12,13,14],0) = False\n"
          ],
          "name": "stdout"
        }
      ]
    },
    {
      "cell_type": "markdown",
      "metadata": {
        "id": "4NtfmcsnJxNq",
        "colab_type": "text"
      },
      "source": [
        "**8** Defina a função junta que recebe como argumentos duas listas de números inteiros  w1  e  w2  e devolve a concatenação de  w1  com  w2 .\n",
        "```\n",
        "Ex: junta([1,2,3],[4,5,6]) = [1, 2, 3, 4, 5, 6]\n",
        "Ex: junta([],[4,5,6]) = [4, 5, 6]\n",
        "Ex: junta([1,2,3],[]) = [1, 2, 3]\n",
        "```"
      ]
    },
    {
      "cell_type": "code",
      "metadata": {
        "id": "kFeYCfybJxNq",
        "colab_type": "code",
        "colab": {
          "base_uri": "https://localhost:8080/",
          "height": 68
        },
        "outputId": "4e2d66eb-11d7-44b6-c564-5ad65c4b52c7"
      },
      "source": [
        "#solução\n",
        "def junta(w1, w2):\n",
        "    return w1 + junta(w2[0:1], w2[1:]) if len(w2) > 0 else w1 + w2\n",
        "\n",
        "assert(junta([1,2,3],[4,5,6]) == [1, 2, 3, 4, 5, 6])\n",
        "assert(junta([],[4,5,6]) == [4, 5, 6])\n",
        "assert(junta([1,2,3],[]) == [1, 2, 3])\n",
        "\n",
        "print('junta([1,2,3],[4,5,6]) =',junta([1,2,3],[4,5,6]))\n",
        "print('junta([],[4,5,6]) =',junta([],[4,5,6]) )\n",
        "print('junta([1,2,3],[]) =',junta([1,2,3],[]) )\n",
        "\n",
        "\n"
      ],
      "execution_count": null,
      "outputs": [
        {
          "output_type": "stream",
          "text": [
            "junta([1,2,3],[4,5,6]) = [1, 2, 3, 4, 5, 6]\n",
            "junta([],[4,5,6]) = [4, 5, 6]\n",
            "junta([1,2,3],[]) = [1, 2, 3]\n"
          ],
          "name": "stdout"
        }
      ]
    },
    {
      "cell_type": "markdown",
      "metadata": {
        "id": "vJEqDSkGJxNv",
        "colab_type": "text"
      },
      "source": [
        "**9** Defina a função temPrimoQ que recebe como argumento uma lista de listas de números inteiros  w  e devolve True se alguma das sublistas  w  tem um número primo e False em caso contrário.\n",
        "```\n",
        "Ex: temPrimoQ([[4,4,4,4],[5,4,6,7],[2,4,3]]) = True\n",
        "Ex: temPrimoQ([[4,4,4,4],[4,4,4],[],[4]]) = False\n",
        "```"
      ]
    },
    {
      "cell_type": "code",
      "metadata": {
        "id": "vofFboHhJxNw",
        "colab_type": "code",
        "colab": {
          "base_uri": "https://localhost:8080/",
          "height": 68
        },
        "outputId": "ba9e6969-4481-44f0-9b58-878806b90a16"
      },
      "source": [
        "#solução\n",
        "def auxTemPrimoQ(w):\n",
        "    return not(len(w) == 0 or(not(( w[0] % 2 != 0 and\n",
        "                                    w[0] % 3 != 0 and\n",
        "                                    w[0] % 5 != 0 and\n",
        "                                    w[0] % 7 != 0 and\n",
        "                                    w[0] % 11 != 0) or w.pop() in [2,3,5,7,11]) and not auxTemPrimoQ(w)))\n",
        "    \n",
        "def temPrimoQ(w):    \n",
        "  return not(len(w) == 0 or (not(auxTemPrimoQ(w.pop())) and not temPrimoQ(w)))\n",
        "\n",
        "assert(temPrimoQ([[4,4,4,4],[5,4,6,7],[2,4,3]]) == True)\n",
        "assert(temPrimoQ([[4,4,4,4],[4,4,4],[],[4]]) == False)\n",
        "\n",
        "print('temPrimoQ([[4,4,4,4],[5,4,6,7],[2,4,3]]) =',temPrimoQ([[4,4,4,4],[5,4,6,7],[2,4,3]]))\n",
        "print('temPrimoQ([[4,4,4,4],[4,4,4],[],[4]]) =',temPrimoQ([[4,4,4,4],[4,4,4],[],[4]]))\n",
        "print('temPrimoQ([[1,2,3],[1,2,3],[1,2,3],[1,2,3]]) =',temPrimoQ([[1,2,3],[1,2,3],[1,2,3],[1,2,3]]))\n"
      ],
      "execution_count": null,
      "outputs": [
        {
          "output_type": "stream",
          "text": [
            "temPrimoQ([[4,4,4,4],[5,4,6,7],[2,4,3]]) = True\n",
            "temPrimoQ([[4,4,4,4],[4,4,4],[],[4]]) = False\n",
            "temPrimoQ([[1,2,3],[1,2,3],[1,2,3],[1,2,3]]) = True\n"
          ],
          "name": "stdout"
        }
      ]
    },
    {
      "cell_type": "markdown",
      "metadata": {
        "id": "NM4J5igSJxN7",
        "colab_type": "text"
      },
      "source": [
        "**10** Defina a função inverteLista que recebe como argumento uma lista  w e devolve a mesma lista mas invertida.\n",
        "```\n",
        "Ex: inverteLista([1,2,3,4,5]) = [5, 4, 3, 2, 1]\n",
        "Ex: inverteLista([])\n",
        "```"
      ]
    },
    {
      "cell_type": "code",
      "metadata": {
        "id": "ff68Ggz_JxN8",
        "colab_type": "code",
        "colab": {
          "base_uri": "https://localhost:8080/",
          "height": 68
        },
        "outputId": "f7a18ae5-c8ad-4ea3-cec8-1170938ae652"
      },
      "source": [
        "#solução\n",
        "def inverteLista(w):\n",
        "    return [w[len(w) - 1]] + (inverteLista(w[:-1])) if len(w) > 0 else []\n",
        "\n",
        "assert(inverteLista([1,2,3,4,5]) == [5, 4, 3, 2, 1])\n",
        "assert(inverteLista([]) == [])\n",
        "assert(inverteLista([5,5,5]) == [5, 5, 5])\n",
        "\n",
        "print('inverteLista([1,2,3,4,5]) =',inverteLista([1,2,3,4,5]))\n",
        "print('inverteLista([]) =',inverteLista([]))\n",
        "print('inverteLista([5,5,5]) =',inverteLista([5,5,5]))\n",
        "\n"
      ],
      "execution_count": null,
      "outputs": [
        {
          "output_type": "stream",
          "text": [
            "inverteLista([1,2,3,4,5]) = [5, 4, 3, 2, 1]\n",
            "inverteLista([]) = []\n",
            "inverteLista([5,5,5]) = [5, 5, 5]\n"
          ],
          "name": "stdout"
        }
      ]
    },
    {
      "cell_type": "code",
      "metadata": {
        "id": "Q_Xgvn4pnqdS",
        "colab_type": "code",
        "colab": {}
      },
      "source": [
        ""
      ],
      "execution_count": null,
      "outputs": []
    }
  ]
}