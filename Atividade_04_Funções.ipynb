{
  "nbformat": 4,
  "nbformat_minor": 0,
  "metadata": {
    "colab": {
      "name": "Atividade 04 - Funções.ipynb",
      "provenance": [],
      "collapsed_sections": [],
      "include_colab_link": true
    },
    "kernelspec": {
      "display_name": "Python 3",
      "language": "python",
      "name": "python3"
    },
    "language_info": {
      "codemirror_mode": {
        "name": "ipython",
        "version": 3
      },
      "file_extension": ".py",
      "mimetype": "text/x-python",
      "name": "python",
      "nbconvert_exporter": "python",
      "pygments_lexer": "ipython3",
      "version": "3.6.4"
    }
  },
  "cells": [
    {
      "cell_type": "markdown",
      "metadata": {
        "id": "view-in-github",
        "colab_type": "text"
      },
      "source": [
        "<a href=\"https://colab.research.google.com/github/CharlesNasci/Paradigmas/blob/master/Atividade_04_Fun%C3%A7%C3%B5es.ipynb\" target=\"_parent\"><img src=\"https://colab.research.google.com/assets/colab-badge.svg\" alt=\"Open In Colab\"/></a>"
      ]
    },
    {
      "cell_type": "markdown",
      "metadata": {
        "id": "PzOF9GRJmchf",
        "colab_type": "text"
      },
      "source": [
        "![logo_usjt.png](https://www.usjt.br/app/themes/mobister/dist/images/sao-judas-universidade.png)"
      ]
    },
    {
      "cell_type": "markdown",
      "metadata": {
        "id": "5yNHv108mchh",
        "colab_type": "text"
      },
      "source": [
        "# Paradigmas de Linguagens de Programação\n",
        "- **Professor**: Sergio Bonato <antonio.bonato@saojudas.br>"
      ]
    },
    {
      "cell_type": "markdown",
      "metadata": {
        "id": "jzFIdYBHmchi",
        "colab_type": "text"
      },
      "source": [
        "# Atividade04 - Python Básico - Funções\n",
        "\n",
        "**Conteúdo:**\n",
        "- funções \n",
        "- escopo de variáveis\n",
        "- args e kwargs"
      ]
    },
    {
      "cell_type": "markdown",
      "metadata": {
        "id": "Skm6nHwSmchj",
        "colab_type": "text"
      },
      "source": [
        "## Autor\n",
        "- **Aluno:**\n",
        "\n",
        "Obs: as tarefas devem ser individuais."
      ]
    },
    {
      "cell_type": "markdown",
      "metadata": {
        "id": "b82-Wdyhmchk",
        "colab_type": "text"
      },
      "source": [
        "## Exercícios"
      ]
    },
    {
      "cell_type": "markdown",
      "metadata": {
        "id": "7Anr8Nrpmchm",
        "colab_type": "text"
      },
      "source": [
        "**1 Menor de dois pares:** Escreva uma função que retorne o menor de dois números dados se ambos os números forem pares, mas retorna o maior se um dos dois for ímpar. Exemplo:\n",
        "```\n",
        "menor_de_dois_pares(2,4) --> 2\n",
        "menor_de_dois_pares (2,5) --> 5\n",
        "```"
      ]
    },
    {
      "cell_type": "code",
      "metadata": {
        "id": "1bLmUU3-mchn",
        "colab_type": "code",
        "colab": {
          "base_uri": "https://localhost:8080/",
          "height": 34
        },
        "outputId": "0c64dd32-8436-42ac-ac5f-edba1c1289e9"
      },
      "source": [
        "def menor_de_dois(num1,num2):\n",
        "        if num1 % 2 == 0 and num2 % 2 == 0:\n",
        "            if num1 < num2:\n",
        "                return num1\n",
        "            else:\n",
        "                return num2\n",
        "        else:\n",
        "            if num1 > num2:\n",
        "                return num1\n",
        "            else:\n",
        "                return num2\n",
        "\n",
        "menor_de_dois(6,8)"
      ],
      "execution_count": null,
      "outputs": [
        {
          "output_type": "execute_result",
          "data": {
            "text/plain": [
              "6"
            ]
          },
          "metadata": {
            "tags": []
          },
          "execution_count": 28
        }
      ]
    },
    {
      "cell_type": "markdown",
      "metadata": {
        "id": "xqZL4b00mchv",
        "colab_type": "text"
      },
      "source": [
        "**2 Mesma letra:** Escreva uma função que receba uma string com duas palavras e retorne True se ambas palavras começarem com a mesma letra. Exemplo:\n",
        "```\n",
        "mesma_letra('Cão covarde') -> True\n",
        "mesma_letra('Vira Lata') -> False\n",
        "```"
      ]
    },
    {
      "cell_type": "code",
      "metadata": {
        "id": "wOYjS0pfmchw",
        "colab_type": "code",
        "colab": {
          "base_uri": "https://localhost:8080/",
          "height": 34
        },
        "outputId": "6b107664-f739-437a-9ee2-1b6394f97d1f"
      },
      "source": [
        "def mesma_letra(arg):\n",
        "  palavras = arg.split(' ')\n",
        "  if palavras[0][0:1] == palavras[1][0:1]:\n",
        "    return True\n",
        "  else:\n",
        "    return False\n",
        "\n",
        "mesma_letra('vira lata')"
      ],
      "execution_count": null,
      "outputs": [
        {
          "output_type": "execute_result",
          "data": {
            "text/plain": [
              "False"
            ]
          },
          "metadata": {
            "tags": []
          },
          "execution_count": 33
        }
      ]
    },
    {
      "cell_type": "markdown",
      "metadata": {
        "id": "Z7p3gZlnmch1",
        "colab_type": "text"
      },
      "source": [
        "**3 Tem 33:** Faça uma função que retorne True se, dada uma lista de inteiros, houver em alguma posição da lista um 3 do lado de outro 3. Exemplo:\n",
        "```\n",
        "tem_33([1,3,3]) --> True\n",
        "tem_33([1,3,1,3]) --> False\n",
        "tem_33([3,1,3]) --> False\n",
        "```"
      ]
    },
    {
      "cell_type": "code",
      "metadata": {
        "id": "h4mPXPFumch2",
        "colab_type": "code",
        "colab": {
          "base_uri": "https://localhost:8080/",
          "height": 34
        },
        "outputId": "6863f8fc-7fa7-4b1f-cad5-845339f50f43"
      },
      "source": [
        "#solução\n",
        "def tem_33(arg):\n",
        "  temTres = False\n",
        "  for i in arg:\n",
        "    if i == 3:\n",
        "        if temTres is True:\n",
        "          return True\n",
        "        else: \n",
        "          temTres = True\n",
        "    else: \n",
        "      temTres = False\n",
        "  else:\n",
        "    return False\n",
        "\n",
        "tem_33([3,1,3])"
      ],
      "execution_count": null,
      "outputs": [
        {
          "output_type": "execute_result",
          "data": {
            "text/plain": [
              "False"
            ]
          },
          "metadata": {
            "tags": []
          },
          "execution_count": 43
        }
      ]
    },
    {
      "cell_type": "markdown",
      "metadata": {
        "id": "qzoib5UBmch7",
        "colab_type": "text"
      },
      "source": [
        "**4 Blackjack:** Faça uma função que receba 3 inteiros entre 1 e 11. Se a soma deles for menor que 21, retorne o valor da soma. Se for mair do que 21 e houver um 11, subtraia 10 da soma antes de apresentar o resultado. Se o valor da soma passar de 21, retorne ‘ESTOUROU’. Exemplo:\n",
        "```\n",
        "blackjack(5,6,7) --> 18\n",
        "blackjack(9,9,9) --> 'ESTOUROU'\n",
        "blackjack(9,9,11) --> 19\n",
        "```"
      ]
    },
    {
      "cell_type": "code",
      "metadata": {
        "id": "UTLgdF_Wmch8",
        "colab_type": "code",
        "colab": {
          "base_uri": "https://localhost:8080/",
          "height": 34
        },
        "outputId": "e452d91e-7df6-4cfa-ab31-3feeecc17e43"
      },
      "source": [
        "#solução\n",
        "def blackJack(arg1,arg2,arg3):\n",
        "  soma = arg1 + arg2 + arg3\n",
        "  if soma <= 21:\n",
        "    return soma\n",
        "  else:\n",
        "    if arg1 == 11 or arg2 == 11  or arg3 == 11:\n",
        "      soma = soma -10\n",
        "    if soma > 21:\n",
        "      return  'Estourou'\n",
        "    else:\n",
        "      return soma\n",
        "\n",
        "blackJack(9,9,11)"
      ],
      "execution_count": null,
      "outputs": [
        {
          "output_type": "execute_result",
          "data": {
            "text/plain": [
              "19"
            ]
          },
          "metadata": {
            "tags": []
          },
          "execution_count": 47
        }
      ]
    },
    {
      "cell_type": "markdown",
      "metadata": {
        "id": "wa0z-IWQmciB",
        "colab_type": "text"
      },
      "source": [
        "**5 Espião:** Escreva uma função que receba uma lista de inteiros e retorne True se contém um 007 em ordem, mesmo que não contínuo. Exemplo:\n",
        "```\n",
        "espiao([1,2,4,0,0,7,5]) --> True\n",
        "espiao([1,0,2,4,0,5,7]) --> True\n",
        "espiao([1,7,2,4,0,5,0]) --> False\n",
        "```"
      ]
    },
    {
      "cell_type": "code",
      "metadata": {
        "id": "wYian0LnmciC",
        "colab_type": "code",
        "colab": {
          "base_uri": "https://localhost:8080/",
          "height": 34
        },
        "outputId": "a4e69ab5-11fc-43a0-a945-377da7f59a43"
      },
      "source": [
        "#solução\n",
        "def espiao(arg):\n",
        "    zero1 = False\n",
        "    zero2 = False\n",
        "    sete = False\n",
        "    for i in arg: \n",
        "      if i == 0:\n",
        "          if sete is False:\n",
        "              if zero1 is False and zero2 is False:\n",
        "                  zero1 = True\n",
        "              elif zero1 is True and zero2 is False:\n",
        "                  zero2 = True\n",
        "              else:\n",
        "                  return False\n",
        "          else:\n",
        "              return False\n",
        "      elif i == 7:\n",
        "          if zero1 is True and zero2 is True:\n",
        "                return True\n",
        "          else:\n",
        "              return False\n",
        "\n",
        "espiao([1,7,2,4,0,5,0])\n",
        "\n"
      ],
      "execution_count": null,
      "outputs": [
        {
          "output_type": "execute_result",
          "data": {
            "text/plain": [
              "False"
            ]
          },
          "metadata": {
            "tags": []
          },
          "execution_count": 50
        }
      ]
    },
    {
      "cell_type": "code",
      "metadata": {
        "id": "pdb8Z79P6SuI",
        "colab_type": "code",
        "colab": {}
      },
      "source": [
        ""
      ],
      "execution_count": null,
      "outputs": []
    }
  ]
}